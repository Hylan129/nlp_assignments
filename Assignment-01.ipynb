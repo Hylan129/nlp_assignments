{
 "cells": [
  {
   "cell_type": "markdown",
   "metadata": {},
   "source": [
    "## Lesson-01 Assignment"
   ]
  },
  {
   "cell_type": "markdown",
   "metadata": {},
   "source": [
    ">"
   ]
  },
  {
   "cell_type": "markdown",
   "metadata": {},
   "source": [
    "`各位同学大家好，欢迎各位开始学习我们的人工智能课程。这门课程假设大家不具备机器学习和人工智能的知识，但是希望大家具备初级的Python编程能力。根据往期同学的实际反馈，我们课程的完结之后 能力能够超过80%的计算机人工智能/深度学习方向的硕士生的能力。`"
   ]
  },
  {
   "cell_type": "markdown",
   "metadata": {},
   "source": [
    "## 本次作业的内容"
   ]
  },
  {
   "cell_type": "markdown",
   "metadata": {},
   "source": [
    "#### 1. 复现课堂代码\n",
    "\n",
    "在本部分，你需要参照我们给大家的GitHub地址里边的课堂代码，结合课堂内容，复现内容。"
   ]
  },
  {
   "cell_type": "markdown",
   "metadata": {},
   "source": [
    "#### 2. 请回答以下问题\n",
    "\n",
    "回答以下问题，并将问题发送至 mqgao@kaikeba.com中：\n",
    "```\n",
    "    2.1. what do you want to acquire in this course？\n",
    "    2.2. what problems do you want to solve？\n",
    "    2.3. what’s the advantages you have to finish you goal?\n",
    "    2.4. what’s the disadvantages you need to overcome to finish you goal?\n",
    "    2.5. How will you plan to study in this course period?\n",
    "```"
   ]
  },
  {
   "cell_type": "markdown",
   "metadata": {},
   "source": [
    "#### 3. 如何提交\n",
    "代码 + 此 jupyter 相关，提交至自己的 github 中(**所以请务必把GitHub按照班主任要求录入在Trello中**)；\n",
    "第2问，请提交至mqgao@kaikeba.com邮箱。\n",
    "#### 4. 作业截止时间\n",
    "此次作业截止时间为 2019.7.6日"
   ]
  },
  {
   "cell_type": "markdown",
   "metadata": {},
   "source": [
    "#### 5. 完成以下问答和编程练习"
   ]
  },
  {
   "cell_type": "markdown",
   "metadata": {},
   "source": [
    ">"
   ]
  },
  {
   "cell_type": "markdown",
   "metadata": {},
   "source": [
    "## 基础理论部分"
   ]
  },
  {
   "cell_type": "markdown",
   "metadata": {},
   "source": [
    "#### 0. Can you come up out 3 sceneraies which use AI methods? "
   ]
  },
  {
   "cell_type": "markdown",
   "metadata": {},
   "source": [
    "Ans: {服务机器人与人语音交互、支付宝人脸识别判断登录者是否为账户主人、高速收费站智能快捷收费通道、自动驾驶汽车、无人仓库...}"
   ]
  },
  {
   "cell_type": "markdown",
   "metadata": {},
   "source": [
    "#### 1. How do we use Github; Why do we use Jupyter and Pycharm;"
   ]
  },
  {
   "cell_type": "markdown",
   "metadata": {},
   "source": [
    "Ans: {1、github既作为一个个人远程仓库，管理个人代码的同时，同时也作为代码开源共享平台；\n",
    "2、jupyter notebook 是python应用的web端扩展工具，具有多种特点：可单句执行，结果同步呈现，方便及时查看上下文的运算结果；同时还可以交替进行文档编辑，非常便于学习演示以及过程交流。\n",
    "3、pycharm 是一个python开发ide，更侧重于实际应用编程，大项目的使用。}"
   ]
  },
  {
   "cell_type": "markdown",
   "metadata": {},
   "source": [
    "#### 2. What's the Probability Model?"
   ]
  },
  {
   "cell_type": "markdown",
   "metadata": {},
   "source": [
    "Ans:\n",
    "1、百科百科：用来描述不同随机变量之间关系的数学模型，通常情况下刻画了一个或多个随机变量之间的相互非确定性的概率关系。\n",
    "2、通俗理解：任何事项发生的概率统计必定基于一定的前提假设，或者应用范围。概率模型就是，针对一个事件的发生概率，设定建立特定的前提，定义概率统计的规则，形成一个针对性的算法模型。"
   ]
  },
  {
   "cell_type": "markdown",
   "metadata": {},
   "source": [
    "#### 3. Can you came up with some sceneraies at which we could use Probability Model?"
   ]
  },
  {
   "cell_type": "markdown",
   "metadata": {},
   "source": [
    "Ans:赌场规则的设定、语音识别匹配技术、图像识别匹配技术..."
   ]
  },
  {
   "cell_type": "markdown",
   "metadata": {},
   "source": [
    "#### 4. Why do we use probability and what's the difficult points for programming based on parsing and pattern match?"
   ]
  },
  {
   "cell_type": "markdown",
   "metadata": {},
   "source": [
    "Ans:\n",
    "1、环境过于复杂，完备计算基于现有计算机的算力不仅在很多场景下不可能做到，而且完备的数据收集也不可能实现；通过一部分已知数据的统计结果来预测其他不可知的部分，从可行性、成本上考虑更为合理。\n",
    "2、难点1:在于数据集的收集，只有当已知数据集足够大，基于它的统计结果才会更有统计学意义；难点2:概率只能趋进100%，但无法达到100%，因此在部分必须万无一失的场景，概率统计预估的风险仍然不可接受，只能通过完备计算实现。难点3:海量数据的处理对算力的要求也是成指数级增长的。"
   ]
  },
  {
   "cell_type": "markdown",
   "metadata": {},
   "source": [
    "#### 5. What's the Language Model;"
   ]
  },
  {
   "cell_type": "markdown",
   "metadata": {},
   "source": [
    "Ans:\n",
    "1、语言模型是用来计算一个句子出现概率的模型"
   ]
  },
  {
   "cell_type": "markdown",
   "metadata": {},
   "source": [
    "#### 6. Can you came up with some sceneraies at which we could use Language Model?\n"
   ]
  },
  {
   "cell_type": "markdown",
   "metadata": {},
   "source": [
    "Ans:聊天机器人的聊天模式、机器人客服、各种编程语言"
   ]
  },
  {
   "cell_type": "markdown",
   "metadata": {},
   "source": [
    "#### 7. What's the 1-gram language model;"
   ]
  },
  {
   "cell_type": "markdown",
   "metadata": {},
   "source": [
    "Ans:一种假设P(wn|w1w2…wn-1)≈P(wn|wn-1)的语句出现概率的统计模型。"
   ]
  },
  {
   "cell_type": "markdown",
   "metadata": {},
   "source": [
    "#### 8. What's the disadvantages and advantages of 1-gram language model;"
   ]
  },
  {
   "cell_type": "markdown",
   "metadata": {},
   "source": [
    "Ans:假设最简单，但是统计概率误差更大，语句合理性判断正确率"
   ]
  },
  {
   "cell_type": "markdown",
   "metadata": {},
   "source": [
    "#### 9. What't the 2-gram models;"
   ]
  },
  {
   "cell_type": "markdown",
   "metadata": {},
   "source": [
    "Ans:对于2-gram，其假设是P(wn|w1w2…wn-1)≈P(wn|wn-1,wn-2)，同样是语句的概率统计模型，但是前提假设不一样。"
   ]
  },
  {
   "cell_type": "markdown",
   "metadata": {},
   "source": [
    "## 编程实践部分"
   ]
  },
  {
   "cell_type": "markdown",
   "metadata": {},
   "source": [
    "#### 1. 设计你自己的句子生成器"
   ]
  },
  {
   "cell_type": "markdown",
   "metadata": {},
   "source": [
    "如何生成句子是一个很经典的问题，从1940s开始，图灵提出机器智能的时候，就使用的是人类能不能流畅和计算机进行对话。和计算机对话的一个前提是，计算机能够生成语言。\n",
    "\n",
    "计算机如何能生成语言是一个经典但是又很复杂的问题。 我们课程上为大家介绍的是一种基于规则（Rule Based）的生成方法。该方法虽然提出的时间早，但是现在依然在很多地方能够大显身手。值得说明的是，现在很多很实用的算法，都是很久之前提出的，例如，二分查找提出与1940s, Dijstra算法提出于1960s 等等。"
   ]
  },
  {
   "cell_type": "markdown",
   "metadata": {},
   "source": [
    "在著名的电视剧，电影《西部世界》中，这些机器人们语言生成的方法就是使用的SyntaxTree生成语言的方法。\n",
    "\n",
    "> \n",
    ">\n",
    "\n",
    "![WstWorld](https://timgsa.baidu.com/timg?image&quality=80&size=b10000_10000&sec=1561818705&di=95ca9ff2ff37fcb88ae47b82c7079feb&src=http://s7.sinaimg.cn/mw690/006BKUGwzy75VK46FMi66&690)\n",
    "\n",
    "> \n",
    ">"
   ]
  },
  {
   "cell_type": "markdown",
   "metadata": {},
   "source": [
    "在这一部分，需要各位同学首先定义自己的语言。 大家可以先想一个应用场景，然后在这个场景下，定义语法。例如：\n",
    "\n",
    "在西部世界里，一个”人类“的语言可以定义为：\n",
    "``` \n",
    "human = \"\"\"\n",
    "human = 自己 寻找 活动\n",
    "自己 = 我 | 俺 | 我们 \n",
    "寻找 = 看看 | 找找 | 想找点\n",
    "活动 = 乐子 | 玩的\n",
    "\"\"\"\n",
    "```\n",
    "\n",
    "一个“接待员”的语言可以定义为\n",
    "```\n",
    "host = \"\"\"\n",
    "host = 寒暄 报数 询问 业务相关 结尾 \n",
    "报数 = 我是 数字 号 ,\n",
    "数字 = 单个数字 | 数字 单个数字 \n",
    "单个数字 = 1 | 2 | 3 | 4 | 5 | 6 | 7 | 8 | 9 \n",
    "寒暄 = 称谓 打招呼 | 打招呼\n",
    "称谓 = 人称 ,\n",
    "人称 = 先生 | 女士 | 小朋友\n",
    "打招呼 = 你好 | 您好 \n",
    "询问 = 请问你要 | 您需要\n",
    "业务相关 = 玩玩 具体业务\n",
    "玩玩 = 耍一耍 | 玩一玩\n",
    "具体业务 = 喝酒 | 打牌 | 打猎 | 赌博\n",
    "结尾 = 吗？\"\"\"\n",
    "\n",
    "```\n",
    "\n",
    "\n"
   ]
  },
  {
   "cell_type": "markdown",
   "metadata": {},
   "source": [
    "请定义你自己的语法: \n",
    "\n",
    "###迎宾接待机器人"
   ]
  },
  {
   "cell_type": "markdown",
   "metadata": {},
   "source": [
    "第一个语法："
   ]
  },
  {
   "cell_type": "code",
   "execution_count": 2,
   "metadata": {},
   "outputs": [],
   "source": [
    "real_person = '''\n",
    "person_grammar= 打招呼 自我介绍 来由说明 确认反馈 结尾\n",
    "打招呼= 称呼 问好\n",
    "称呼 = 小派！|小π！|小可爱！|小π小π！\n",
    "问好 = 你好呀！|你好！\n",
    "自我介绍 = 我是 姓名 ，来自 公司\n",
    "姓名 = 老马|小扎|王哥|张老|Hylan\n",
    "公司 =开课吧|google|微软|阿里|IBM|慧科|字节|美团|滴滴|腾讯\n",
    "来由说明 = ，找 姓 老板 do 业务\n",
    "姓 = 赵|钱|孙|李|高|叶|马\n",
    "do = 沟通|交流 |谈\n",
    "业务= 区块链项目建设|云计算项目建设|大数据处理技术合作|人工智能机器人相关的投资\n",
    "确认反馈 = 。你可以帮忙 help \n",
    "help = 代办|问一下|带我去\n",
    "结尾= 叹词 赞美\n",
    "叹词 = 吗？|么？\n",
    "赞美 = 你真厉害！|你真可爱！\n",
    "\n",
    "'''"
   ]
  },
  {
   "cell_type": "markdown",
   "metadata": {},
   "source": [
    "第二个语法："
   ]
  },
  {
   "cell_type": "code",
   "execution_count": 3,
   "metadata": {},
   "outputs": [],
   "source": [
    "robot = '''\n",
    "robot_grammar= 寒暄 自我介绍 询问 业务 结尾 \n",
    "寒暄 = 称谓 打招呼\n",
    "称谓 = 帅哥| 美女|先生 | 女士|小朋友|老板 \n",
    "打招呼 = 你好 ！| 您好 ！| hello ！| hi ！\n",
    "\n",
    "自我介绍 = 介绍细节 表达心情 功能介绍 判断 \n",
    "介绍细节 = 我是服务机器人小π！| 我是萌萌哒的小π机器人！\n",
    "表达心情 = 很高兴为你服务！|很高兴为您服务！\n",
    "功能介绍 = 主谓语 功能细节\n",
    "主谓语 = 我可以|我能够|我擅长\n",
    "功能细节 = 当导游，带您参观公司。|帮您代办很多业务。|带你去找人，比如我们大老板！\n",
    "\n",
    "判断 = 主格 谓语 公司 客户\n",
    "主格 = 你|您|称谓\n",
    "谓语 = 是|还不是\n",
    "公司 = 我们 公司名称\n",
    "公司名称=开课吧|google|微软|阿里|IBM|慧科|字节跳动|美团|滴滴|腾讯\n",
    "客户=老客户。|客户。\n",
    "\n",
    "\n",
    "询问 = 请问你是来|您是来\n",
    "选择 = 或者|还是来\n",
    "业务 = 业务细节 选择 业务细节 \n",
    "业务细节 = 上课|找人|办理业务|咨询课程|有其他事情| 业务\n",
    "结尾 = 呢？\n",
    "\n",
    "'''"
   ]
  },
  {
   "cell_type": "markdown",
   "metadata": {},
   "source": [
    "TODO: 然后，使用自己之前定义的generate函数，使用此函数生成句子。"
   ]
  },
  {
   "cell_type": "markdown",
   "metadata": {},
   "source": [
    "TODO: 然后，定义一个函数，generate_n，将generate扩展，使其能够生成n个句子:"
   ]
  },
  {
   "cell_type": "code",
   "execution_count": 13,
   "metadata": {},
   "outputs": [
    {
     "name": "stdout",
     "output_type": "stream",
     "text": [
      "robot-->第1句话\n",
      " 老板您好！我是萌萌哒的小π机器人！很高兴为您服务！我擅长帮您代办很多业务。你还不是我们开课吧老客户。请问你是来咨询课程还是来找人呢？\n",
      "person-->第1句话\n",
      " 小可爱！你好！我是王哥，来自美团，找赵老板交流区块链项目建设。你可以帮忙问一下吗？你真可爱！\n",
      "robot-->第2句话\n",
      " 老板hello！我是萌萌哒的小π机器人！很高兴为你服务！我擅长当导游，带您参观公司。您还不是我们字节跳动老客户。请问你是来办理业务还是来办理业务呢？\n",
      "person-->第2句话\n",
      " 小π小π！你好！我是王哥，来自腾讯，找马老板交流云计算项目建设。你可以帮忙带我去吗？你真可爱！\n",
      "robot-->第3句话\n",
      " 先生hi！我是服务机器人小π！很高兴为你服务！我可以带你去找人，比如我们大老板！您还不是我们阿里客户。请问你是来有其他事情还是来上课呢？\n",
      "person-->第3句话\n",
      " 小派！你好！我是小扎，来自滴滴，找孙老板沟通人工智能机器人相关的投资。你可以帮忙带我去吗？你真可爱！\n",
      "robot-->第4句话\n",
      " 先生您好！我是萌萌哒的小π机器人！很高兴为你服务！我可以带你去找人，比如我们大老板！帅哥还不是我们开课吧客户。您是来有其他事情或者上课呢？\n",
      "person-->第4句话\n",
      " 小π！你好！我是Hylan，来自腾讯，找孙老板谈大数据处理技术合作。你可以帮忙带我去吗？你真厉害！\n",
      "robot-->第5句话\n",
      " 帅哥hello！我是服务机器人小π！很高兴为你服务！我擅长帮您代办很多业务。你还不是我们阿里客户。请问你是来找人或者找人呢？\n",
      "person-->第5句话\n",
      " 小派！你好呀！我是王哥，来自微软，找李老板谈区块链项目建设。你可以帮忙问一下吗？你真可爱！\n",
      "robot-->第6句话\n",
      " 美女hello！我是服务机器人小π！很高兴为你服务！我擅长带你去找人，比如我们大老板！女士还不是我们google老客户。请问你是来上课或者有其他事情呢？\n",
      "person-->第6句话\n",
      " 小可爱！你好呀！我是张老，来自开课吧，找马老板沟通云计算项目建设。你可以帮忙带我去么？你真厉害！\n",
      "robot-->第7句话\n",
      " 老板你好！我是萌萌哒的小π机器人！很高兴为您服务！我可以当导游，带您参观公司。您还不是我们腾讯老客户。请问你是来找人还是来找人呢？\n",
      "person-->第7句话\n",
      " 小π小π！你好呀！我是老马，来自腾讯，找钱老板沟通大数据处理技术合作。你可以帮忙带我去么？你真厉害！\n",
      "robot-->第8句话\n",
      " 先生hello！我是萌萌哒的小π机器人！很高兴为你服务！我可以当导游，带您参观公司。女士还不是我们慧科客户。请问你是来有其他事情或者上课或者有其他事情呢？\n",
      "person-->第8句话\n",
      " 小派！你好呀！我是王哥，来自腾讯，找钱老板交流云计算项目建设。你可以帮忙带我去么？你真可爱！\n",
      "robot-->第9句话\n",
      " 帅哥hi！我是萌萌哒的小π机器人！很高兴为您服务！我能够帮您代办很多业务。您还不是我们google客户。您是来找人或者咨询课程或者咨询课程呢？\n",
      "person-->第9句话\n",
      " 小π小π！你好呀！我是小扎，来自滴滴，找马老板沟通区块链项目建设。你可以帮忙问一下吗？你真可爱！\n",
      "robot-->第10句话\n",
      " 先生你好！我是萌萌哒的小π机器人！很高兴为您服务！我可以带你去找人，比如我们大老板！你是我们腾讯客户。您是来上课或者上课呢？\n",
      "person-->第10句话\n",
      " 小可爱！你好！我是老马，来自慧科，找马老板谈云计算项目建设。你可以帮忙代办吗？你真可爱！\n"
     ]
    }
   ],
   "source": [
    "import random\n",
    "def grammar_produce(grammar_raw):\n",
    "    grammar = {}\n",
    "    for line_grammar_string in grammar_raw.split('\\n'):\n",
    "        if line_grammar_string !='':\n",
    "            name,param = line_grammar_string.split('=')\n",
    "            param = [element.split()  for element in param.split('|')]\n",
    "            grammar[name.strip()] = param\n",
    "    return grammar\n",
    "\n",
    "def sentence_produce(grammar_new,target):\n",
    "    if not target in grammar_new:\n",
    "        return target\n",
    "    elements = random.choice(grammar_new[target])\n",
    "    return ''.join([sentence_produce(grammar_new,element)  for element in elements])\n",
    "\n",
    "grammar_rules_1 = grammar_produce(robot)\n",
    "grammar_rules_2 = grammar_produce(real_person)\n",
    "\n",
    "def generate_n(number):\n",
    "    n = 0 \n",
    "    while(n<number):\n",
    "        print(\"robot-->第\"+str(n+1)+\"句话\\n\",sentence_produce(grammar_rules_1,'robot_grammar'))\n",
    "        print(\"person-->第\"+str(n+1)+\"句话\\n\",sentence_produce(grammar_rules_2,'person_grammar'))\n",
    "        n= n +1 \n",
    "generate_n(10)"
   ]
  },
  {
   "cell_type": "markdown",
   "metadata": {},
   "source": [
    ">"
   ]
  },
  {
   "cell_type": "markdown",
   "metadata": {},
   "source": [
    "#### 2. 使用新数据源完成语言模型的训练"
   ]
  },
  {
   "cell_type": "markdown",
   "metadata": {},
   "source": [
    "按照我们上文中定义的`prob_2`函数，我们更换一个文本数据源，获得新的Language Model:\n",
    "\n",
    "1. 下载文本数据集（你可以在以下数据集中任选一个，也可以两个都使用）\n",
    "    + 可选数据集1，保险行业问询对话集： https://github.com/Computing-Intelligence/insuranceqa-corpus-zh/raw/release/corpus/pool/train.txt.gz\n",
    "    + 可选数据集2：豆瓣评论数据集：https://github.com/Computing-Intelligence/datasource/raw/master/movie_comments.csv\n",
    "2. 修改代码，获得新的**2-gram**语言模型\n",
    "    + 进行文本清洗，获得所有的纯文本\n",
    "    + 将这些文本进行切词\n",
    "    + 送入之前定义的语言模型中，判断文本的合理程度"
   ]
  },
  {
   "cell_type": "code",
   "execution_count": 55,
   "metadata": {},
   "outputs": [
    {
     "data": {
      "text/plain": [
       "(261497, list)"
      ]
     },
     "execution_count": 55,
     "metadata": {},
     "output_type": "execute_result"
    }
   ],
   "source": [
    "#文本导入\n",
    "\n",
    "import pandas\n",
    "\n",
    "csv_file = 'download_movie_comments.csv'\n",
    "\n",
    "content = pandas.read_csv(csv_file,encoding='utf-8')\n",
    "content.head()\n",
    "text_to_deal = content['comment'].tolist()\n",
    "len(text_to_deal),type(text_to_deal)\n",
    "#[text for i,text in enumerate(text_to_deal) if i<20]"
   ]
  },
  {
   "cell_type": "code",
   "execution_count": 60,
   "metadata": {},
   "outputs": [
    {
     "data": {
      "text/plain": [
       "'吴京意淫到了脑残的地步看了恶心想吐首映礼看的太恐怖了这个电影不讲道理的完全就是吴京在实现他这个小粉红的英雄梦各种装备轮番上场视物理逻辑于不顾不得不说有钱真好随意胡闹吴京的炒作水平不输冯小刚但小刚至少不会用主旋律来炒作吴京让人看了不舒服为了主旋律而主旋律为了煽情而煽情让人觉得他是个大做作大谎言家729更新片子整体不如湄公河行动1整体不够流畅编剧有毒台词尴尬2刻意做作的主旋律煽情显得如此不合时宜而又多余凭良心说好看到不像战狼1的续集完虐湄公河行动中二得很犯我中华者虽远必诛吴京比这句话还要意淫一百倍脑子是个好东西希望编剧们都能有三星半实打实的7分第一集在爱国主旋律内部做着各种置换与较劲但第二集才真正显露吴京的野心他终于抛弃李忠志了新增外来班底让硬件实力有机会和国际接轨开篇水下长镜头和诸如铁丝网拦截RPG弹头的细节设计都让国产动作片重新封顶在理念上它甚至做到绣春刀2最想做到的那部分开篇长镜头惊险大气引人入胜结合了水平不俗的快剪下实打实的真刀真枪让人不禁热血沸腾特别弹簧床架挡炸弹空手接碎玻璃弹匣割喉等帅得飞起就算前半段铺垫节奏散漫主角光环开太大等也不怕作为一个中国人两个小时弥漫着中国强大得不可侵犯的氛围还是让那颗民族自豪心砰砰砰跳个不停15100吴京的冷峰在这部里即像成龙又像杰森斯坦森但体制外的同类型电影主角总是代表个人无能的政府需要求助于这些英雄才能解决难题体现的是个人的价值所以主旋律照抄这种模式实际上是有问题的我们以前嘲笑个人英雄主义却没想到捆绑爱国主义的全能战士更加难以下咽犯我中华者虽远必诛是有多无脑才信这句话这部戏让人看的热血沸腾对吴京路转粉最后的彩蛋让我们没有理由不期待下一部假嗨特别恶心的电影有几处情节设置过于尴尬彰显国家自豪感的部分稍显突兀就是一部爽片打戏挺燃但是故事一般达康书记不合适这个角色赵东来倒是很合适张瀚太太太违和了分分钟穿越回偶像剧赵东来达康书记我们接到在非洲卧底的冷锋报告丁义珍现在非洲我们请求抓捕李达康东来这件事先不要声张特别是别让省厅知道就你和我一起去非洲加上冷锋同志三人逮捕丁义珍这次行就叫战狼2吧下一部拍喜剧吧整个片子真感觉挺搞笑的战狼2里吴京这么能打他打得过徐晓冬么心往一处想劲往一处使就能实现我们的梦想看吧比第一部好太多了谢谢美队的动作指导这都能火是我没见识开头的水下长对决戏可算华语电影的顶尖存在驱逐舰导弹和坦克在商业片里这么狂用也是了得镜头运用'"
      ]
     },
     "execution_count": 60,
     "metadata": {},
     "output_type": "execute_result"
    }
   ],
   "source": [
    "#文本清洗\n",
    "\n",
    "import re\n",
    "\n",
    "text_all_ready = ''.join([''.join(re.findall('\\w+',str(text))) for text in text_to_deal])\n",
    "len(text_all_ready)\n",
    "text_all_ready[:1000]"
   ]
  },
  {
   "cell_type": "code",
   "execution_count": 62,
   "metadata": {},
   "outputs": [
    {
     "data": {
      "text/plain": [
       "4487034"
      ]
     },
     "execution_count": 62,
     "metadata": {},
     "output_type": "execute_result"
    }
   ],
   "source": [
    "#分词\n",
    "\n",
    "import jieba\n",
    "\n",
    "text_cut_finish = list(jieba.cut(text_all_ready))\n",
    "\n",
    "len(text_cut_finish)"
   ]
  },
  {
   "cell_type": "code",
   "execution_count": 112,
   "metadata": {},
   "outputs": [
    {
     "data": {
      "text/plain": [
       "[('的', 328253),\n",
       " ('了', 102408),\n",
       " ('是', 73433),\n",
       " ('我', 50520),\n",
       " ('都', 36251),\n",
       " ('很', 34760),\n",
       " ('看', 33850),\n",
       " ('电影', 33638),\n",
       " ('也', 32064),\n",
       " ('和', 31291),\n",
       " ('在', 31234),\n",
       " ('不', 28473),\n",
       " ('有', 27930),\n",
       " ('就', 25690),\n",
       " ('人', 23818),\n",
       " ('好', 22562),\n",
       " ('啊', 20783),\n",
       " ('这', 17878),\n",
       " ('一个', 17343),\n",
       " ('还', 17318)]"
      ]
     },
     "execution_count": 112,
     "metadata": {},
     "output_type": "execute_result"
    }
   ],
   "source": [
    "#分词结果统计\n",
    "\n",
    "from collections import Counter\n",
    "\n",
    "result_counter = Counter(text_cut_finish)\n",
    "\n",
    "Counter(text_cut_finish).most_common()[:20]"
   ]
  },
  {
   "cell_type": "code",
   "execution_count": 159,
   "metadata": {},
   "outputs": [
    {
     "data": {
      "text/plain": [
       "0.07315589763750398"
      ]
     },
     "execution_count": 159,
     "metadata": {},
     "output_type": "execute_result"
    }
   ],
   "source": [
    "#字符串概率计算\n",
    "\n",
    "def probability(oneword):\n",
    "    return result_counter[oneword]/len(text_cut_finish)\n",
    "\n",
    "probability('的')"
   ]
  },
  {
   "cell_type": "code",
   "execution_count": 81,
   "metadata": {},
   "outputs": [
    {
     "data": {
      "image/png": "[encoded data removed]",
      "text/plain": [
       "<Figure size 432x288 with 1 Axes>"
      ]
     },
     "metadata": {
      "needs_background": "light"
     },
     "output_type": "display_data"
    },
    {
     "data": {
      "image/png": "[encoded data removed]",
      "text/plain": [
       "<Figure size 432x288 with 1 Axes>"
      ]
     },
     "metadata": {
      "needs_background": "light"
     },
     "output_type": "display_data"
    },
    {
     "data": {
      "text/plain": [
       "([<matplotlib.lines.Line2D at 0x124cf3470>], None)"
      ]
     },
     "execution_count": 81,
     "metadata": {},
     "output_type": "execute_result"
    }
   ],
   "source": [
    "#画出分布曲线\n",
    "from matplotlib import pyplot as pl\n",
    "\n",
    "x,y =[i+1 for i in range(120)],[number for _ , number in  Counter(text_cut_finish).most_common()[:120]]\n",
    "\n",
    "pl.plot(x,y),pl.show(x,y)\n",
    "\n",
    "x,y =[i+1 for i in range(120)],[number**0.5 for _ , number in  Counter(text_cut_finish).most_common()[:120]]\n",
    "pl.plot(x,y),pl.show()"
   ]
  },
  {
   "cell_type": "raw",
   "metadata": {},
   "source": [
    "#定义probability_2函数\n",
    "#数学假设：𝑃𝑟𝑜(𝑤1𝑤2𝑤3𝑤4)∼𝑃𝑟(𝑤1|𝑤2)∗𝑃(𝑤2|𝑤3)∗𝑃𝑟(𝑤3|𝑤4)∗𝑃𝑟(𝑤4)\n",
    "#概率公式：p(w1|w2)=p(w1,w2)/p(w2)"
   ]
  },
  {
   "cell_type": "code",
   "execution_count": 282,
   "metadata": {},
   "outputs": [
    {
     "data": {
      "text/plain": [
       "[('的电影', 4340),\n",
       " ('看的', 3579),\n",
       " ('都是', 3162),\n",
       " ('让人', 2617),\n",
       " ('的故事', 2381),\n",
       " ('看了', 2279),\n",
       " ('也是', 2237),\n",
       " ('的人', 2175),\n",
       " ('的是', 2173),\n",
       " ('的时候', 2158)]"
      ]
     },
     "execution_count": 282,
     "metadata": {},
     "output_type": "execute_result"
    }
   ],
   "source": [
    "text_cut_finish_2gram = [''.join(text_cut_finish[2*i:2*i+2]) for i in range(int(len(text_cut_finish)/2))]\n",
    "\n",
    "[text_cut_finish_2gram[i] for i in range(10)]\n",
    "\n",
    "result_counter_2gram = Counter(text_cut_finish_2gram)\n",
    "\n",
    "result_counter_2gram.most_common(10)"
   ]
  },
  {
   "cell_type": "code",
   "execution_count": 286,
   "metadata": {},
   "outputs": [],
   "source": [
    "def probability_2(wordone,wordtwo):\n",
    "    if str(wordone + wordtwo) in result_counter_2gram :\n",
    "        return (result_counter_2gram[str(wordone+wordtwo)] /len(text_cut_finish_2gram)) / probability(wordtwo)\n",
    "    else :\n",
    "        return 1/len(text_cut_finish_2gram)"
   ]
  },
  {
   "cell_type": "code",
   "execution_count": 163,
   "metadata": {},
   "outputs": [
    {
     "data": {
      "text/plain": [
       "0.059183201013168464"
      ]
     },
     "execution_count": 163,
     "metadata": {},
     "output_type": "execute_result"
    }
   ],
   "source": [
    "probability_2('的','是')"
   ]
  },
  {
   "cell_type": "raw",
   "metadata": {},
   "source": [
    "#数学假设：𝑃𝑟𝑜(𝑤1𝑤2𝑤3𝑤4)∼𝑃𝑟(𝑤1|𝑤2)∗𝑃(𝑤2|𝑤3)∗𝑃𝑟(𝑤3|𝑤4)∗𝑃𝑟(𝑤4)"
   ]
  },
  {
   "cell_type": "code",
   "execution_count": 284,
   "metadata": {},
   "outputs": [],
   "source": [
    "def probability_sentence(sentence_give):\n",
    "    sentence_filter =''.join([''.join(re.findall('\\w+',str(text))) for text in sentence_give])\n",
    "    sentence_cut = list(jieba.cut(sentence_filter))\n",
    "    gailv = 1\n",
    "    for i in range(len(sentence_cut)-1):\n",
    "        gailv_calc = probability_2(str(sentence_cut[i]),str(sentence_cut[i+1]))\n",
    "        gailv = gailv * gailv_calc\n",
    "    return gailv*probability(sentence_cut[-1])"
   ]
  },
  {
   "cell_type": "code",
   "execution_count": 325,
   "metadata": {},
   "outputs": [
    {
     "data": {
      "text/plain": [
       "(4.365526873865026e-165, 5.124078151293362e-106)"
      ]
     },
     "execution_count": 325,
     "metadata": {},
     "output_type": "execute_result"
    }
   ],
   "source": [
    "probability_sentence(sentence_produce(grammar_rules_1,'robot_grammar')),\\\n",
    "probability_sentence(sentence_produce(grammar_rules_2,'person_grammar'))"
   ]
  },
  {
   "cell_type": "code",
   "execution_count": 297,
   "metadata": {},
   "outputs": [
    {
     "data": {
      "text/plain": [
       "1.1963069480992407e-37"
      ]
     },
     "execution_count": 297,
     "metadata": {},
     "output_type": "execute_result"
    }
   ],
   "source": [
    "probability_sentence('脑残的地步看了恶心想吐首映礼看的太恐怖')"
   ]
  },
  {
   "cell_type": "markdown",
   "metadata": {},
   "source": [
    "#### 3. 获得最优质的的语言"
   ]
  },
  {
   "cell_type": "markdown",
   "metadata": {},
   "source": [
    "当我们能够生成随机的语言并且能判断之后，我们就可以生成更加合理的语言了。请定义 generate_best 函数，该函数输入一个语法 + 语言模型，能够生成**n**个句子，并能选择一个最合理的句子: \n",
    "\n"
   ]
  },
  {
   "cell_type": "markdown",
   "metadata": {},
   "source": [
    "提示，要实现这个函数，你需要Python的sorted函数"
   ]
  },
  {
   "cell_type": "code",
   "execution_count": 13,
   "metadata": {},
   "outputs": [
    {
     "data": {
      "text/plain": [
       "[1, 2, 3, 5]"
      ]
     },
     "execution_count": 13,
     "metadata": {},
     "output_type": "execute_result"
    }
   ],
   "source": [
    "sorted([1, 3, 5, 2])"
   ]
  },
  {
   "cell_type": "markdown",
   "metadata": {},
   "source": [
    "这个函数接受一个参数key，这个参数接受一个函数作为输入，例如"
   ]
  },
  {
   "cell_type": "code",
   "execution_count": 15,
   "metadata": {},
   "outputs": [
    {
     "data": {
      "text/plain": [
       "[(1, 4), (2, 5), (4, 4), (5, 0)]"
      ]
     },
     "execution_count": 15,
     "metadata": {},
     "output_type": "execute_result"
    }
   ],
   "source": [
    "sorted([(2, 5), (1, 4), (5, 0), (4, 4)], key=lambda x: x[0])"
   ]
  },
  {
   "cell_type": "markdown",
   "metadata": {},
   "source": [
    "能够让list按照第0个元素进行排序."
   ]
  },
  {
   "cell_type": "code",
   "execution_count": 16,
   "metadata": {},
   "outputs": [
    {
     "data": {
      "text/plain": [
       "[(5, 0), (1, 4), (4, 4), (2, 5)]"
      ]
     },
     "execution_count": 16,
     "metadata": {},
     "output_type": "execute_result"
    }
   ],
   "source": [
    "sorted([(2, 5), (1, 4), (5, 0), (4, 4)], key=lambda x: x[1])"
   ]
  },
  {
   "cell_type": "markdown",
   "metadata": {},
   "source": [
    "能够让list按照第1个元素进行排序."
   ]
  },
  {
   "cell_type": "code",
   "execution_count": 17,
   "metadata": {},
   "outputs": [
    {
     "data": {
      "text/plain": [
       "[(2, 5), (1, 4), (4, 4), (5, 0)]"
      ]
     },
     "execution_count": 17,
     "metadata": {},
     "output_type": "execute_result"
    }
   ],
   "source": [
    "sorted([(2, 5), (1, 4), (5, 0), (4, 4)], key=lambda x: x[1], reverse=True)"
   ]
  },
  {
   "cell_type": "markdown",
   "metadata": {},
   "source": [
    "能够让list按照第1个元素进行排序, 但是是递减的顺序。"
   ]
  },
  {
   "cell_type": "markdown",
   "metadata": {},
   "source": [
    ">"
   ]
  },
  {
   "cell_type": "code",
   "execution_count": 362,
   "metadata": {},
   "outputs": [],
   "source": [
    "#生产n个句子，同时输出合理性概率排序\n",
    "\n",
    "def generate_best(n,grammar,target = 'robot_grammar'):\n",
    "    sentence_array = []\n",
    "    for i in range(n):\n",
    "        sentence_array = sentence_array+ \\\n",
    "        [(sentence_produce(grammar,target),probability_sentence(sentence_produce(grammar,target)))]\n",
    "    new_array = sorted(sentence_array,key = lambda x: x[1],reverse= True)\n",
    "    \n",
    "    return new_array,'最合理的句子是：',new_array[0]\n"
   ]
  },
  {
   "cell_type": "code",
   "execution_count": 364,
   "metadata": {},
   "outputs": [
    {
     "data": {
      "text/plain": [
       "(([('小π小π！你好呀！我是王哥，来自腾讯，找钱老板沟通云计算项目建设。你可以帮忙问一下么？你真可爱！',\n",
       "    5.565903623486775e-108),\n",
       "   ('小π！你好！我是张老，来自阿里，找李老板沟通大数据处理技术合作。你可以帮忙代办吗？你真厉害！', 8.770363719537897e-110),\n",
       "   ('小π小π！你好呀！我是老马，来自google，找高老板交流区块链项目建设。你可以帮忙带我去吗？你真厉害！',\n",
       "    4.350394183414084e-110),\n",
       "   ('小π小π！你好呀！我是老马，来自滴滴，找李老板谈区块链项目建设。你可以帮忙带我去吗？你真可爱！', 8.492144303097776e-134),\n",
       "   ('小π小π！你好！我是Hylan，来自阿里，找高老板沟通人工智能机器人相关的投资。你可以帮忙带我去吗？你真可爱！',\n",
       "    6.303661875308904e-135)],\n",
       "  '最合理的句子是：',\n",
       "  ('小π小π！你好呀！我是王哥，来自腾讯，找钱老板沟通云计算项目建设。你可以帮忙问一下么？你真可爱！',\n",
       "   5.565903623486775e-108)),\n",
       " ([('小朋友你好！我是服务机器人小π！很高兴为您服务！我可以当导游，带您参观公司。帅哥是我们字节跳动客户。您是来咨询课程还是来办理业务呢？',\n",
       "    1.1585283108337313e-154),\n",
       "   ('老板你好！我是服务机器人小π！很高兴为你服务！我可以当导游，带您参观公司。你还不是我们IBM老客户。您是来上课还是来找人呢？',\n",
       "    5.738325686491626e-161),\n",
       "   ('女士你好！我是服务机器人小π！很高兴为您服务！我可以带你去找人，比如我们大老板！你还不是我们阿里老客户。您是来咨询课程还是来找人呢？',\n",
       "    2.3506323047302302e-164),\n",
       "   ('小朋友hello！我是服务机器人小π！很高兴为您服务！我可以当导游，带您参观公司。您还不是我们阿里老客户。您是来有其他事情还是来找人呢？',\n",
       "    2.0932733853274687e-171),\n",
       "   ('老板hi！我是萌萌哒的小π机器人！很高兴为你服务！我能够带你去找人，比如我们大老板！您还不是我们腾讯客户。请问你是来咨询课程还是来上课呢？',\n",
       "    6.122152231222997e-180)],\n",
       "  '最合理的句子是：',\n",
       "  ('小朋友你好！我是服务机器人小π！很高兴为您服务！我可以当导游，带您参观公司。帅哥是我们字节跳动客户。您是来咨询课程还是来办理业务呢？',\n",
       "   1.1585283108337313e-154)))"
      ]
     },
     "execution_count": 364,
     "metadata": {},
     "output_type": "execute_result"
    }
   ],
   "source": [
    "generate_best(5,grammar_rules_2,'person_grammar'),\\\n",
    "generate_best(5,grammar_rules_1,'robot_grammar')"
   ]
  },
  {
   "cell_type": "markdown",
   "metadata": {},
   "source": [
    "好了，现在我们实现了自己的第一个AI模型，这个模型能够生成比较接近于人类的语言。"
   ]
  },
  {
   "cell_type": "markdown",
   "metadata": {},
   "source": [
    ">"
   ]
  },
  {
   "cell_type": "markdown",
   "metadata": {},
   "source": [
    "Q: 这个模型有什么问题？ 你准备如何提升？ "
   ]
  },
  {
   "cell_type": "markdown",
   "metadata": {},
   "source": [
    "Ans:\n",
    "问题：\n",
    "1、语料库本身局限。不同场景下的单一语料库的适应性有限，统计得出的最合理语句在实际场景中很可能并非最佳选项。\n",
    "2、分词统计逻辑的合理性需要验证。全文分词后，由单个分词合并成2个分词，采用的是顺序合并，前后临近的单词合并。这种统计方式存在局限，降低双词本身的可能性。\n",
    "\n",
    "问题解决：\n",
    "\n",
    "1、全场景下的语料库难以获得，针对具体应用场景，使用对应场景下语料库资源作为统计基础。另外结合对应文字本省的语法结构做分析，比如中文，避免采用单一统计数据作为判断支撑。\n",
    "\n",
    "2、可以考虑全文分词后，使用随机取两个合并，或者遍历任意两个匹配。此操作存在运算量剧增的风险，需具体验证考虑。"
   ]
  },
  {
   "cell_type": "markdown",
   "metadata": {},
   "source": [
    ">"
   ]
  },
  {
   "cell_type": "markdown",
   "metadata": {},
   "source": [
    "##### 以下内容为可选部分，对于绝大多数同学，能完成以上的项目已经很优秀了，下边的内容如果你还有精力可以试试，但不是必须的。"
   ]
  },
  {
   "cell_type": "markdown",
   "metadata": {},
   "source": [
    "#### 4. (Optional) 完成基于Pattern Match的语句问答\n",
    "> 我们的GitHub仓库中，有一个assignment-01-optional-pattern-match，这个难度较大，感兴趣的同学可以挑战一下。"
   ]
  },
  {
   "cell_type": "markdown",
   "metadata": {},
   "source": [
    "\n",
    "#### 5. (Optional) 完成阿兰图灵机器智能原始论文的阅读\n",
    "1. 请阅读阿兰图灵关于机器智能的原始论文：https://github.com/Computing-Intelligence/References/blob/master/AI%20%26%20Machine%20Learning/Computer%20Machinery%20and%20Intelligence.pdf \n",
    "2. 并按照GitHub仓库中的论文阅读模板，填写完毕后发送给我: mqgao@kaikeba.com 谢谢"
   ]
  },
  {
   "cell_type": "markdown",
   "metadata": {},
   "source": [
    "> "
   ]
  },
  {
   "cell_type": "markdown",
   "metadata": {},
   "source": [
    "各位同学，我们已经完成了自己的第一个AI模型，大家对人工智能可能已经有了一些感觉，人工智能的核心就是，我们如何设计一个模型、程序，在外部的输入变化的时候，我们的程序不变，依然能够解决问题。人工智能是一个很大的领域，目前大家所熟知的深度学习只是其中一小部分，之后也肯定会有更多的方法提出来，但是大家知道人工智能的目标，就知道了之后进步的方向。"
   ]
  },
  {
   "cell_type": "markdown",
   "metadata": {},
   "source": [
    "然后，希望大家对AI不要有恐惧感，这个并不难，大家加油！"
   ]
  },
  {
   "cell_type": "markdown",
   "metadata": {},
   "source": [
    ">"
   ]
  },
  {
   "cell_type": "markdown",
   "metadata": {},
   "source": [
    "![](https://timgsa.baidu.com/timg?image&quality=80&size=b9999_10000&sec=1561828422005&di=48d19c16afb6acc9180183a6116088ac&imgtype=0&src=http%3A%2F%2Fb-ssl.duitang.com%2Fuploads%2Fitem%2F201807%2F28%2F20180728150843_BECNF.thumb.224_0.jpeg)"
   ]
  }
 ],
 "metadata": {
  "kernelspec": {
   "display_name": "Python 3",
   "language": "python",
   "name": "python3"
  },
  "language_info": {
   "codemirror_mode": {
    "name": "ipython",
    "version": 3
   },
   "file_extension": ".py",
   "mimetype": "text/x-python",
   "name": "python",
   "nbconvert_exporter": "python",
   "pygments_lexer": "ipython3",
   "version": "3.7.3"
  }
 },
 "nbformat": 4,
 "nbformat_minor": 2
}
