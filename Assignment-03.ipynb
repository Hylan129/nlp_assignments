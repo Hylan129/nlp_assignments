{
 "cells": [
  {
   "cell_type": "markdown",
   "metadata": {},
   "source": [
    "## Lecture-03 Gradient Descent and Dymanic Programming"
   ]
  },
  {
   "cell_type": "markdown",
   "metadata": {},
   "source": [
    "In this week, we need complete following tasks:\n",
    "+ Re-review the course online programming; \n",
    "+ Choose 1 - 2 books which you interested and keep reading; \n",
    "+ Answer the review questions\n",
    "+ Prepare the basic requirement of our 1st project. "
   ]
  },
  {
   "cell_type": "markdown",
   "metadata": {},
   "source": [
    "### Part I Review the online programming. "
   ]
  },
  {
   "cell_type": "markdown",
   "metadata": {},
   "source": [
    "### Part 2: change loss function from $loss = \\frac{1}{n}\\sum{(y_i - \\hat(y_i))^2}$ to $loss = \\frac{1}{n}\\sum{|y_i - \\hat{y_i}|}$, and using your mathmatical knowledge to get the right partial formual. Implemen the gradient descent code."
   ]
  },
  {
   "cell_type": "code",
   "execution_count": 5,
   "metadata": {},
   "outputs": [],
   "source": [
    "from sklearn.datasets import load_boston\n",
    "data = load_boston()"
   ]
  },
  {
   "cell_type": "code",
   "execution_count": 10,
   "metadata": {},
   "outputs": [
    {
     "data": {
      "text/plain": [
       "{'data': array([[6.3200e-03, 1.8000e+01, 2.3100e+00, ..., 1.5300e+01, 3.9690e+02,\n",
       "         4.9800e+00],\n",
       "        [2.7310e-02, 0.0000e+00, 7.0700e+00, ..., 1.7800e+01, 3.9690e+02,\n",
       "         9.1400e+00],\n",
       "        [2.7290e-02, 0.0000e+00, 7.0700e+00, ..., 1.7800e+01, 3.9283e+02,\n",
       "         4.0300e+00],\n",
       "        ...,\n",
       "        [6.0760e-02, 0.0000e+00, 1.1930e+01, ..., 2.1000e+01, 3.9690e+02,\n",
       "         5.6400e+00],\n",
       "        [1.0959e-01, 0.0000e+00, 1.1930e+01, ..., 2.1000e+01, 3.9345e+02,\n",
       "         6.4800e+00],\n",
       "        [4.7410e-02, 0.0000e+00, 1.1930e+01, ..., 2.1000e+01, 3.9690e+02,\n",
       "         7.8800e+00]]),\n",
       " 'target': array([24. , 21.6, 34.7, 33.4, 36.2, 28.7, 22.9, 27.1, 16.5, 18.9, 15. ,\n",
       "        18.9, 21.7, 20.4, 18.2, 19.9, 23.1, 17.5, 20.2, 18.2, 13.6, 19.6,\n",
       "        15.2, 14.5, 15.6, 13.9, 16.6, 14.8, 18.4, 21. , 12.7, 14.5, 13.2,\n",
       "        13.1, 13.5, 18.9, 20. , 21. , 24.7, 30.8, 34.9, 26.6, 25.3, 24.7,\n",
       "        21.2, 19.3, 20. , 16.6, 14.4, 19.4, 19.7, 20.5, 25. , 23.4, 18.9,\n",
       "        35.4, 24.7, 31.6, 23.3, 19.6, 18.7, 16. , 22.2, 25. , 33. , 23.5,\n",
       "        19.4, 22. , 17.4, 20.9, 24.2, 21.7, 22.8, 23.4, 24.1, 21.4, 20. ,\n",
       "        20.8, 21.2, 20.3, 28. , 23.9, 24.8, 22.9, 23.9, 26.6, 22.5, 22.2,\n",
       "        23.6, 28.7, 22.6, 22. , 22.9, 25. , 20.6, 28.4, 21.4, 38.7, 43.8,\n",
       "        33.2, 27.5, 26.5, 18.6, 19.3, 20.1, 19.5, 19.5, 20.4, 19.8, 19.4,\n",
       "        21.7, 22.8, 18.8, 18.7, 18.5, 18.3, 21.2, 19.2, 20.4, 19.3, 22. ,\n",
       "        20.3, 20.5, 17.3, 18.8, 21.4, 15.7, 16.2, 18. , 14.3, 19.2, 19.6,\n",
       "        23. , 18.4, 15.6, 18.1, 17.4, 17.1, 13.3, 17.8, 14. , 14.4, 13.4,\n",
       "        15.6, 11.8, 13.8, 15.6, 14.6, 17.8, 15.4, 21.5, 19.6, 15.3, 19.4,\n",
       "        17. , 15.6, 13.1, 41.3, 24.3, 23.3, 27. , 50. , 50. , 50. , 22.7,\n",
       "        25. , 50. , 23.8, 23.8, 22.3, 17.4, 19.1, 23.1, 23.6, 22.6, 29.4,\n",
       "        23.2, 24.6, 29.9, 37.2, 39.8, 36.2, 37.9, 32.5, 26.4, 29.6, 50. ,\n",
       "        32. , 29.8, 34.9, 37. , 30.5, 36.4, 31.1, 29.1, 50. , 33.3, 30.3,\n",
       "        34.6, 34.9, 32.9, 24.1, 42.3, 48.5, 50. , 22.6, 24.4, 22.5, 24.4,\n",
       "        20. , 21.7, 19.3, 22.4, 28.1, 23.7, 25. , 23.3, 28.7, 21.5, 23. ,\n",
       "        26.7, 21.7, 27.5, 30.1, 44.8, 50. , 37.6, 31.6, 46.7, 31.5, 24.3,\n",
       "        31.7, 41.7, 48.3, 29. , 24. , 25.1, 31.5, 23.7, 23.3, 22. , 20.1,\n",
       "        22.2, 23.7, 17.6, 18.5, 24.3, 20.5, 24.5, 26.2, 24.4, 24.8, 29.6,\n",
       "        42.8, 21.9, 20.9, 44. , 50. , 36. , 30.1, 33.8, 43.1, 48.8, 31. ,\n",
       "        36.5, 22.8, 30.7, 50. , 43.5, 20.7, 21.1, 25.2, 24.4, 35.2, 32.4,\n",
       "        32. , 33.2, 33.1, 29.1, 35.1, 45.4, 35.4, 46. , 50. , 32.2, 22. ,\n",
       "        20.1, 23.2, 22.3, 24.8, 28.5, 37.3, 27.9, 23.9, 21.7, 28.6, 27.1,\n",
       "        20.3, 22.5, 29. , 24.8, 22. , 26.4, 33.1, 36.1, 28.4, 33.4, 28.2,\n",
       "        22.8, 20.3, 16.1, 22.1, 19.4, 21.6, 23.8, 16.2, 17.8, 19.8, 23.1,\n",
       "        21. , 23.8, 23.1, 20.4, 18.5, 25. , 24.6, 23. , 22.2, 19.3, 22.6,\n",
       "        19.8, 17.1, 19.4, 22.2, 20.7, 21.1, 19.5, 18.5, 20.6, 19. , 18.7,\n",
       "        32.7, 16.5, 23.9, 31.2, 17.5, 17.2, 23.1, 24.5, 26.6, 22.9, 24.1,\n",
       "        18.6, 30.1, 18.2, 20.6, 17.8, 21.7, 22.7, 22.6, 25. , 19.9, 20.8,\n",
       "        16.8, 21.9, 27.5, 21.9, 23.1, 50. , 50. , 50. , 50. , 50. , 13.8,\n",
       "        13.8, 15. , 13.9, 13.3, 13.1, 10.2, 10.4, 10.9, 11.3, 12.3,  8.8,\n",
       "         7.2, 10.5,  7.4, 10.2, 11.5, 15.1, 23.2,  9.7, 13.8, 12.7, 13.1,\n",
       "        12.5,  8.5,  5. ,  6.3,  5.6,  7.2, 12.1,  8.3,  8.5,  5. , 11.9,\n",
       "        27.9, 17.2, 27.5, 15. , 17.2, 17.9, 16.3,  7. ,  7.2,  7.5, 10.4,\n",
       "         8.8,  8.4, 16.7, 14.2, 20.8, 13.4, 11.7,  8.3, 10.2, 10.9, 11. ,\n",
       "         9.5, 14.5, 14.1, 16.1, 14.3, 11.7, 13.4,  9.6,  8.7,  8.4, 12.8,\n",
       "        10.5, 17.1, 18.4, 15.4, 10.8, 11.8, 14.9, 12.6, 14.1, 13. , 13.4,\n",
       "        15.2, 16.1, 17.8, 14.9, 14.1, 12.7, 13.5, 14.9, 20. , 16.4, 17.7,\n",
       "        19.5, 20.2, 21.4, 19.9, 19. , 19.1, 19.1, 20.1, 19.9, 19.6, 23.2,\n",
       "        29.8, 13.8, 13.3, 16.7, 12. , 14.6, 21.4, 23. , 23.7, 25. , 21.8,\n",
       "        20.6, 21.2, 19.1, 20.6, 15.2,  7. ,  8.1, 13.6, 20.1, 21.8, 24.5,\n",
       "        23.1, 19.7, 18.3, 21.2, 17.5, 16.8, 22.4, 20.6, 23.9, 22. , 11.9]),\n",
       " 'feature_names': array(['CRIM', 'ZN', 'INDUS', 'CHAS', 'NOX', 'RM', 'AGE', 'DIS', 'RAD',\n",
       "        'TAX', 'PTRATIO', 'B', 'LSTAT'], dtype='<U7'),\n",
       " 'DESCR': \".. _boston_dataset:\\n\\nBoston house prices dataset\\n---------------------------\\n\\n**Data Set Characteristics:**  \\n\\n    :Number of Instances: 506 \\n\\n    :Number of Attributes: 13 numeric/categorical predictive. Median Value (attribute 14) is usually the target.\\n\\n    :Attribute Information (in order):\\n        - CRIM     per capita crime rate by town\\n        - ZN       proportion of residential land zoned for lots over 25,000 sq.ft.\\n        - INDUS    proportion of non-retail business acres per town\\n        - CHAS     Charles River dummy variable (= 1 if tract bounds river; 0 otherwise)\\n        - NOX      nitric oxides concentration (parts per 10 million)\\n        - RM       average number of rooms per dwelling\\n        - AGE      proportion of owner-occupied units built prior to 1940\\n        - DIS      weighted distances to five Boston employment centres\\n        - RAD      index of accessibility to radial highways\\n        - TAX      full-value property-tax rate per $10,000\\n        - PTRATIO  pupil-teacher ratio by town\\n        - B        1000(Bk - 0.63)^2 where Bk is the proportion of blacks by town\\n        - LSTAT    % lower status of the population\\n        - MEDV     Median value of owner-occupied homes in $1000's\\n\\n    :Missing Attribute Values: None\\n\\n    :Creator: Harrison, D. and Rubinfeld, D.L.\\n\\nThis is a copy of UCI ML housing dataset.\\nhttps://archive.ics.uci.edu/ml/machine-learning-databases/housing/\\n\\n\\nThis dataset was taken from the StatLib library which is maintained at Carnegie Mellon University.\\n\\nThe Boston house-price data of Harrison, D. and Rubinfeld, D.L. 'Hedonic\\nprices and the demand for clean air', J. Environ. Economics & Management,\\nvol.5, 81-102, 1978.   Used in Belsley, Kuh & Welsch, 'Regression diagnostics\\n...', Wiley, 1980.   N.B. Various transformations are used in the table on\\npages 244-261 of the latter.\\n\\nThe Boston house-price data has been used in many machine learning papers that address regression\\nproblems.   \\n     \\n.. topic:: References\\n\\n   - Belsley, Kuh & Welsch, 'Regression diagnostics: Identifying Influential Data and Sources of Collinearity', Wiley, 1980. 244-261.\\n   - Quinlan,R. (1993). Combining Instance-Based and Model-Based Learning. In Proceedings on the Tenth International Conference of Machine Learning, 236-243, University of Massachusetts, Amherst. Morgan Kaufmann.\\n\",\n",
       " 'filename': '/Users/hylan/anaconda3/lib/python3.7/site-packages/sklearn/datasets/data/boston_house_prices.csv'}"
      ]
     },
     "execution_count": 10,
     "metadata": {},
     "output_type": "execute_result"
    }
   ],
   "source": [
    "data"
   ]
  },
  {
   "cell_type": "code",
   "execution_count": 20,
   "metadata": {},
   "outputs": [],
   "source": [
    "i =data['data']"
   ]
  },
  {
   "cell_type": "code",
   "execution_count": 16,
   "metadata": {},
   "outputs": [],
   "source": [
    "j = data['target']"
   ]
  },
  {
   "cell_type": "code",
   "execution_count": 17,
   "metadata": {},
   "outputs": [
    {
     "data": {
      "text/plain": [
       "array([24. , 21.6, 34.7, 33.4, 36.2, 28.7, 22.9, 27.1, 16.5, 18.9, 15. ,\n",
       "       18.9, 21.7, 20.4, 18.2, 19.9, 23.1, 17.5, 20.2, 18.2, 13.6, 19.6,\n",
       "       15.2, 14.5, 15.6, 13.9, 16.6, 14.8, 18.4, 21. , 12.7, 14.5, 13.2,\n",
       "       13.1, 13.5, 18.9, 20. , 21. , 24.7, 30.8, 34.9, 26.6, 25.3, 24.7,\n",
       "       21.2, 19.3, 20. , 16.6, 14.4, 19.4, 19.7, 20.5, 25. , 23.4, 18.9,\n",
       "       35.4, 24.7, 31.6, 23.3, 19.6, 18.7, 16. , 22.2, 25. , 33. , 23.5,\n",
       "       19.4, 22. , 17.4, 20.9, 24.2, 21.7, 22.8, 23.4, 24.1, 21.4, 20. ,\n",
       "       20.8, 21.2, 20.3, 28. , 23.9, 24.8, 22.9, 23.9, 26.6, 22.5, 22.2,\n",
       "       23.6, 28.7, 22.6, 22. , 22.9, 25. , 20.6, 28.4, 21.4, 38.7, 43.8,\n",
       "       33.2, 27.5, 26.5, 18.6, 19.3, 20.1, 19.5, 19.5, 20.4, 19.8, 19.4,\n",
       "       21.7, 22.8, 18.8, 18.7, 18.5, 18.3, 21.2, 19.2, 20.4, 19.3, 22. ,\n",
       "       20.3, 20.5, 17.3, 18.8, 21.4, 15.7, 16.2, 18. , 14.3, 19.2, 19.6,\n",
       "       23. , 18.4, 15.6, 18.1, 17.4, 17.1, 13.3, 17.8, 14. , 14.4, 13.4,\n",
       "       15.6, 11.8, 13.8, 15.6, 14.6, 17.8, 15.4, 21.5, 19.6, 15.3, 19.4,\n",
       "       17. , 15.6, 13.1, 41.3, 24.3, 23.3, 27. , 50. , 50. , 50. , 22.7,\n",
       "       25. , 50. , 23.8, 23.8, 22.3, 17.4, 19.1, 23.1, 23.6, 22.6, 29.4,\n",
       "       23.2, 24.6, 29.9, 37.2, 39.8, 36.2, 37.9, 32.5, 26.4, 29.6, 50. ,\n",
       "       32. , 29.8, 34.9, 37. , 30.5, 36.4, 31.1, 29.1, 50. , 33.3, 30.3,\n",
       "       34.6, 34.9, 32.9, 24.1, 42.3, 48.5, 50. , 22.6, 24.4, 22.5, 24.4,\n",
       "       20. , 21.7, 19.3, 22.4, 28.1, 23.7, 25. , 23.3, 28.7, 21.5, 23. ,\n",
       "       26.7, 21.7, 27.5, 30.1, 44.8, 50. , 37.6, 31.6, 46.7, 31.5, 24.3,\n",
       "       31.7, 41.7, 48.3, 29. , 24. , 25.1, 31.5, 23.7, 23.3, 22. , 20.1,\n",
       "       22.2, 23.7, 17.6, 18.5, 24.3, 20.5, 24.5, 26.2, 24.4, 24.8, 29.6,\n",
       "       42.8, 21.9, 20.9, 44. , 50. , 36. , 30.1, 33.8, 43.1, 48.8, 31. ,\n",
       "       36.5, 22.8, 30.7, 50. , 43.5, 20.7, 21.1, 25.2, 24.4, 35.2, 32.4,\n",
       "       32. , 33.2, 33.1, 29.1, 35.1, 45.4, 35.4, 46. , 50. , 32.2, 22. ,\n",
       "       20.1, 23.2, 22.3, 24.8, 28.5, 37.3, 27.9, 23.9, 21.7, 28.6, 27.1,\n",
       "       20.3, 22.5, 29. , 24.8, 22. , 26.4, 33.1, 36.1, 28.4, 33.4, 28.2,\n",
       "       22.8, 20.3, 16.1, 22.1, 19.4, 21.6, 23.8, 16.2, 17.8, 19.8, 23.1,\n",
       "       21. , 23.8, 23.1, 20.4, 18.5, 25. , 24.6, 23. , 22.2, 19.3, 22.6,\n",
       "       19.8, 17.1, 19.4, 22.2, 20.7, 21.1, 19.5, 18.5, 20.6, 19. , 18.7,\n",
       "       32.7, 16.5, 23.9, 31.2, 17.5, 17.2, 23.1, 24.5, 26.6, 22.9, 24.1,\n",
       "       18.6, 30.1, 18.2, 20.6, 17.8, 21.7, 22.7, 22.6, 25. , 19.9, 20.8,\n",
       "       16.8, 21.9, 27.5, 21.9, 23.1, 50. , 50. , 50. , 50. , 50. , 13.8,\n",
       "       13.8, 15. , 13.9, 13.3, 13.1, 10.2, 10.4, 10.9, 11.3, 12.3,  8.8,\n",
       "        7.2, 10.5,  7.4, 10.2, 11.5, 15.1, 23.2,  9.7, 13.8, 12.7, 13.1,\n",
       "       12.5,  8.5,  5. ,  6.3,  5.6,  7.2, 12.1,  8.3,  8.5,  5. , 11.9,\n",
       "       27.9, 17.2, 27.5, 15. , 17.2, 17.9, 16.3,  7. ,  7.2,  7.5, 10.4,\n",
       "        8.8,  8.4, 16.7, 14.2, 20.8, 13.4, 11.7,  8.3, 10.2, 10.9, 11. ,\n",
       "        9.5, 14.5, 14.1, 16.1, 14.3, 11.7, 13.4,  9.6,  8.7,  8.4, 12.8,\n",
       "       10.5, 17.1, 18.4, 15.4, 10.8, 11.8, 14.9, 12.6, 14.1, 13. , 13.4,\n",
       "       15.2, 16.1, 17.8, 14.9, 14.1, 12.7, 13.5, 14.9, 20. , 16.4, 17.7,\n",
       "       19.5, 20.2, 21.4, 19.9, 19. , 19.1, 19.1, 20.1, 19.9, 19.6, 23.2,\n",
       "       29.8, 13.8, 13.3, 16.7, 12. , 14.6, 21.4, 23. , 23.7, 25. , 21.8,\n",
       "       20.6, 21.2, 19.1, 20.6, 15.2,  7. ,  8.1, 13.6, 20.1, 21.8, 24.5,\n",
       "       23.1, 19.7, 18.3, 21.2, 17.5, 16.8, 22.4, 20.6, 23.9, 22. , 11.9])"
      ]
     },
     "execution_count": 17,
     "metadata": {},
     "output_type": "execute_result"
    }
   ],
   "source": [
    "j"
   ]
  },
  {
   "cell_type": "code",
   "execution_count": 14,
   "metadata": {},
   "outputs": [],
   "source": [
    "import matplotlib.pyplot as plt"
   ]
  },
  {
   "cell_type": "code",
   "execution_count": 207,
   "metadata": {},
   "outputs": [
    {
     "data": {
      "text/plain": [
       "<matplotlib.collections.PathCollection at 0x1a26ae8dd8>"
      ]
     },
     "execution_count": 207,
     "metadata": {},
     "output_type": "execute_result"
    },
    {
     "data": {
      "image/png": "[encoded data removed]",
      "text/plain": [
       "<Figure size 432x288 with 1 Axes>"
      ]
     },
     "metadata": {
      "needs_background": "light"
     },
     "output_type": "display_data"
    }
   ],
   "source": [
    "import random\n",
    "\n",
    "k = random.randint(-100,100)\n",
    "b = random.randint(-100,100)\n",
    "\n",
    "def price_kb(k,b,r):\n",
    "    \n",
    "    return r*k + b\n",
    "    \n",
    "    \n",
    "x = [ _*0.1 for _ in range(90)]\n",
    "y = [price_kb(k,b,_)  for _ in x]\n",
    "\n",
    "plt.scatter(i[:,5], j)\n",
    "plt.scatter(i[:,5],[price_kb(9,-34,_)  for _ in i[:,5]])"
   ]
  },
  {
   "cell_type": "code",
   "execution_count": 198,
   "metadata": {},
   "outputs": [],
   "source": [
    "def loss(y1,y0):\n",
    "    \n",
    "    return sum([(_1-_0)**2/len(y1) for _1,_0 in zip(y1,y0)])"
   ]
  },
  {
   "cell_type": "code",
   "execution_count": 199,
   "metadata": {},
   "outputs": [
    {
     "data": {
      "text/plain": [
       "3483.9338228754946"
      ]
     },
     "execution_count": 199,
     "metadata": {},
     "output_type": "execute_result"
    }
   ],
   "source": [
    "loss([price_kb(k,b,_)  for _ in i[:,5]],j)"
   ]
  },
  {
   "cell_type": "code",
   "execution_count": 215,
   "metadata": {},
   "outputs": [
    {
     "name": "stdout",
     "output_type": "stream",
     "text": [
      "次数：1，loss值：5360106721.480501，k值：-10300，b值：-8100\n",
      "次数：3，loss值：2324571007.7358313，k值：6700，b值：5900\n",
      "次数：4，loss值：1429225159.3913226，k值：-4700，b值：-8100\n",
      "次数：5，loss值：260919494.78484195，k值：-3100，b值：3500\n",
      "次数：11，loss值：102849008.31164035，k值：-500，b值：13300\n",
      "次数：19，loss值：6389373.312272734，k值：-700，b值：6900\n",
      "次数：90，loss值：675864.9935375492，k值：900，b值：-5100\n",
      "次数：839，loss值：509057.78405138326，k值：700，b值：-4900\n",
      "次数：1015，loss值：395499.22278656164，k值：900，b值：-5700\n",
      "次数：1218，loss值：248218.9985968379，k值：100，b值：-1100\n",
      "次数：4062，loss值：28708.15084980238，k值：-100，b值：500\n"
     ]
    }
   ],
   "source": [
    "min_loss = float('inf')\n",
    "\n",
    "def calc_kb(ax,ay):\n",
    "    \n",
    "    number = 10000\n",
    "    while(number > 0):\n",
    "        k = random.randint(-100,100)*200 - 100\n",
    "        b = random.randint(-100,100)*200 - 100\n",
    "        \n",
    "        loss_value = loss([price_kb(k,b,_)  for _ in i[:,5]],j)\n",
    "        \n",
    "        global min_loss\n",
    "        \n",
    "        if loss_value < min_loss:\n",
    "            \n",
    "            print(\"次数：{}，loss值：{}，k值：{}，b值：{}\".format(10001 - number,loss_value,k,b))\n",
    "            \n",
    "            min_loss = loss_value\n",
    "            \n",
    "        number = number -1\n",
    "        \n",
    "calc_kb(i[:,5],j)"
   ]
  },
  {
   "cell_type": "code",
   "execution_count": 235,
   "metadata": {},
   "outputs": [
    {
     "name": "stdout",
     "output_type": "stream",
     "text": [
      "次数：1，loss值：88384.89667639475，k值：43.77818764279546，b值：43.62725094167739\n",
      "次数：2，loss值：87517.05069590459，k值：43.578187642795456，b值：43.427250941677386\n",
      "次数：3，loss值：86653.48940288424，k值：43.37818764279545，b值：43.22725094167738\n",
      "次数：4，loss值：85794.2127973337，k值：43.17818764279545，b值：43.02725094167738\n",
      "次数：5，loss值：84939.22087925319，k值：42.97818764279545，b值：42.82725094167738\n",
      "次数：6，loss值：84088.5136486425，k值：42.778187642795444，b值：42.627250941677374\n",
      "次数：7，loss值：83242.09110550169，k值：42.57818764279544，b值：42.42725094167737\n",
      "次数：8，loss值：82399.95324983065，k值：42.37818764279544，b值：42.22725094167737\n",
      "次数：9，loss值：81562.10008162961，k值：42.178187642795436，b值：42.027250941677366\n",
      "次数：10，loss值：80728.53160089847，k值：41.97818764279543，b值：41.82725094167736\n",
      "次数：11，loss值：79899.24780763713，k值：41.77818764279543，b值：41.62725094167736\n",
      "次数：12，loss值：79074.24870184562，k值：41.57818764279543，b值：41.42725094167736\n",
      "次数：13，loss值：78253.53428352418，k值：41.378187642795424，b值：41.227250941677354\n",
      "次数：14，loss值：77437.10455267256，k值：41.17818764279542，b值：41.02725094167735\n",
      "次数：15，loss值：76624.95950929083，k值：40.97818764279542，b值：40.82725094167735\n",
      "次数：16，loss值：75817.0991533789，k值：40.778187642795416，b值：40.627250941677346\n",
      "次数：17，loss值：75013.52348493689，k值：40.57818764279541，b值：40.42725094167734\n",
      "次数：18，loss值：74214.23250396475，k值：40.37818764279541，b值：40.22725094167734\n",
      "次数：19，loss值：73419.22621046258，k值：40.17818764279541，b值：40.02725094167734\n",
      "次数：20，loss值：72628.50460443019，k值：39.978187642795405，b值：39.827250941677335\n",
      "次数：21，loss值：71842.06768586782，k值：39.7781876427954，b值：39.62725094167733\n",
      "次数：22，loss值：71059.91545477507，k值：39.5781876427954，b值：39.42725094167733\n",
      "次数：23，loss值：70282.04791115243，k值：39.378187642795396，b值：39.227250941677326\n",
      "次数：24，loss值：69508.46505499964，k值：39.17818764279539，b值：39.02725094167732\n",
      "次数：25，loss值：68739.16688631669，k值：38.97818764279539，b值：38.82725094167732\n",
      "次数：26，loss值：67974.15340510354，k值：38.77818764279539，b值：38.62725094167732\n",
      "次数：27，loss值：67213.42461136034，k值：38.578187642795385，b值：38.427250941677315\n",
      "次数：28，loss值：66456.98050508699，k值：38.37818764279538，b值：38.22725094167731\n",
      "次数：29，loss值：65704.82108628367，k值：38.17818764279538，b值：38.02725094167731\n",
      "次数：30，loss值：64956.946354950014，k值：37.978187642795376，b值：37.827250941677306\n",
      "次数：31，loss值：64213.356311086434，k值：37.77818764279537，b值：37.6272509416773\n",
      "次数：32，loss值：63474.05095469266，k值：37.57818764279537，b值：37.4272509416773\n",
      "次数：33，loss值：62739.030285768815，k值：37.37818764279537，b值：37.2272509416773\n",
      "次数：34，loss值：62008.29430431471，k值：37.178187642795365，b值：37.027250941677295\n",
      "次数：35，loss值：61281.843010330565，k值：36.97818764279536，b值：36.82725094167729\n",
      "次数：36，loss值：60559.6764038163，k值：36.77818764279536，b值：36.62725094167729\n",
      "次数：37，loss值：59841.79448477198，k值：36.578187642795356，b值：36.427250941677286\n",
      "次数：38，loss值：59128.19725319744，k值：36.37818764279535，b值：36.22725094167728\n",
      "次数：39，loss值：58418.8847090928，k值：36.17818764279535，b值：36.02725094167728\n",
      "次数：40，loss值：57713.85685245806，k值：35.97818764279535，b值：35.82725094167728\n",
      "次数：41，loss值：57013.113683293195，k值：35.778187642795345，b值：35.627250941677275\n",
      "次数：42，loss值：56316.65520159828，k值：35.57818764279534，b值：35.42725094167727\n",
      "次数：43，loss值：55624.48140737324，k值：35.37818764279534，b值：35.22725094167727\n",
      "次数：44，loss值：54936.59230061802，k值：35.178187642795336，b值：35.027250941677266\n",
      "次数：45，loss值：54252.98788133263，k值：34.97818764279533，b值：34.82725094167726\n",
      "次数：46，loss值：53573.66814951724，k值：34.77818764279533，b值：34.62725094167726\n",
      "次数：47，loss值：52898.633105171684，k值：34.57818764279533，b值：34.42725094167726\n",
      "次数：48，loss值：52227.88274829598，k值：34.378187642795325，b值：34.227250941677255\n",
      "次数：49，loss值：51561.41707889026，k值：34.17818764279532，b值：34.02725094167725\n",
      "次数：50，loss值：50899.236096954286，k值：33.97818764279532，b值：33.82725094167725\n",
      "次数：51，loss值：50241.33980248825，k值：33.77818764279532，b值：33.62725094167725\n",
      "次数：52，loss值：49587.72819549209，k值：33.578187642795314，b值：33.427250941677244\n",
      "次数：53，loss值：48938.40127596585，k值：33.37818764279531，b值：33.22725094167724\n",
      "次数：54，loss值：48293.3590439095，k值：33.17818764279531，b值：33.02725094167724\n",
      "次数：55，loss值：47652.60149932295，k值：32.978187642795305，b值：32.827250941677235\n",
      "次数：56，loss值：47016.128642206364，k值：32.7781876427953，b值：32.62725094167723\n",
      "次数：57，loss值：46383.94047255961，k值：32.5781876427953，b值：32.42725094167723\n",
      "次数：58，loss值：45756.03699038277，k值：32.3781876427953，b值：32.22725094167723\n",
      "次数：59，loss值：45132.41819567573，k值：32.178187642795294，b值：32.027250941677224\n",
      "次数：60，loss值：44513.08408843868，k值：31.978187642795294，b值：31.827250941677224\n",
      "次数：61，loss值：43898.03466867147，k值：31.778187642795295，b值：31.627250941677225\n",
      "次数：62，loss值：43287.26993637413，k值：31.578187642795296，b值：31.427250941677226\n",
      "次数：63，loss值：42680.78989154671，k值：31.378187642795297，b值：31.227250941677227\n",
      "次数：64，loss值：42078.59453418911，k值：31.178187642795297，b值：31.027250941677227\n",
      "次数：65，loss值：41480.68386430144，k值：30.978187642795298，b值：30.827250941677228\n",
      "次数：66，loss值：40887.05788188362，k值：30.7781876427953，b值：30.62725094167723\n",
      "次数：67，loss值：40297.71658693572，k值：30.5781876427953，b值：30.42725094167723\n",
      "次数：68，loss值：39712.65997945771，k值：30.3781876427953，b值：30.22725094167723\n",
      "次数：69，loss值：39131.8880594495，k值：30.1781876427953，b值：30.02725094167723\n",
      "次数：70，loss值：38555.40082691127，k值：29.9781876427953，b值：29.82725094167723\n",
      "次数：71，loss值：37983.198281842844，k值：29.778187642795302，b值：29.627250941677232\n",
      "次数：72，loss值：37415.28042424437，k值：29.578187642795303，b值：29.427250941677233\n",
      "次数：73，loss值：36851.64725411567，k值：29.378187642795304，b值：29.227250941677234\n",
      "次数：74，loss值：36292.29877145702，k值：29.178187642795304，b值：29.027250941677234\n",
      "次数：75，loss值：35737.23497626813，k值：28.978187642795305，b值：28.827250941677235\n",
      "次数：76，loss值：35186.45586854915，k值：28.778187642795306，b值：28.627250941677236\n",
      "次数：77，loss值：34639.961448300026，k值：28.578187642795307，b值：28.427250941677237\n",
      "次数：78，loss值：34097.75171552081，k值：28.378187642795307，b值：28.227250941677237\n",
      "次数：79，loss值：33559.826670211434，k值：28.178187642795308，b值：28.027250941677238\n",
      "次数：80，loss值：33026.18631237201，k值：27.97818764279531，b值：27.82725094167724\n",
      "次数：81，loss值：32496.830642002402，k值：27.77818764279531，b值：27.62725094167724\n",
      "次数：82，loss值：31971.759659102747，k值：27.57818764279531，b值：27.42725094167724\n",
      "次数：83，loss值：31450.97336367291，k值：27.37818764279531，b值：27.22725094167724\n",
      "次数：84，loss值：30934.471755713，k值：27.17818764279531，b值：27.02725094167724\n",
      "次数：85，loss值：30422.254835222935，k值：26.978187642795312，b值：26.827250941677242\n",
      "次数：86，loss值：29914.32260220275，k值：26.778187642795313，b值：26.627250941677243\n",
      "次数：87，loss值：29410.675056652468，k值：26.578187642795314，b值：26.427250941677244\n",
      "次数：88，loss值：28911.31219857205，k值：26.378187642795314，b值：26.227250941677244\n",
      "次数：89，loss值：28416.23402796153，k值：26.178187642795315，b值：26.027250941677245\n",
      "次数：90，loss值：27925.440544820878，k值：25.978187642795316，b值：25.827250941677246\n",
      "次数：91，loss值：27438.93174915013，k值：25.778187642795316，b值：25.627250941677246\n",
      "次数：92，loss值：26956.707640949207，k值：25.578187642795317，b值：25.427250941677247\n",
      "次数：93，loss值：26478.768220218222，k值：25.378187642795318，b值：25.227250941677248\n",
      "次数：94，loss值：26005.11348695707，k值：25.17818764279532，b值：25.02725094167725\n",
      "次数：95，loss值：25535.743441165858，k值：24.97818764279532，b值：24.82725094167725\n",
      "次数：96，loss值：25070.658082844504，k值：24.77818764279532，b值：24.62725094167725\n",
      "次数：97，loss值：24609.85741199303，k值：24.57818764279532，b值：24.42725094167725\n",
      "次数：98，loss值：24153.341428611457，k值：24.37818764279532，b值：24.22725094167725\n",
      "次数：99，loss值：23701.110132699727，k值：24.178187642795322，b值：24.027250941677252\n",
      "次数：100，loss值：23253.163524257896，k值：23.978187642795323，b值：23.827250941677253\n",
      "次数：101，loss值：22809.50160328591，k值：23.778187642795324，b值：23.627250941677254\n",
      "次数：102，loss值：22370.12436978386，k值：23.578187642795324，b值：23.427250941677254\n",
      "次数：103，loss值：21935.0318237517，k值：23.378187642795325，b值：23.227250941677255\n",
      "次数：104，loss值：21504.223965189398，k值：23.178187642795326，b值：23.027250941677256\n",
      "次数：105，loss值：21077.70079409696，k值：22.978187642795326，b值：22.827250941677256\n",
      "次数：106，loss值：20655.462310474424，k值：22.778187642795327，b值：22.627250941677257\n",
      "次数：107，loss值：20237.50851432176，k值：22.578187642795328，b值：22.427250941677258\n",
      "次数：108，loss值：19823.839405638944，k值：22.37818764279533，b值：22.22725094167726\n",
      "次数：109，loss值：19414.454984426076，k值：22.17818764279533，b值：22.02725094167726\n",
      "次数：110，loss值：19009.35525068303，k值：21.97818764279533，b值：21.82725094167726\n",
      "次数：111，loss值：18608.540204409906，k值：21.77818764279533，b值：21.62725094167726\n",
      "次数：112，loss值：18212.009845606673，k值：21.57818764279533，b值：21.42725094167726\n",
      "次数：113，loss值：17819.764174273278，k值：21.378187642795332，b值：21.227250941677262\n",
      "次数：114，loss值：17431.8031904098，k值：21.178187642795333，b值：21.027250941677263\n",
      "次数：115，loss值：17048.126894016183，k值：20.978187642795334，b值：20.827250941677264\n",
      "次数：116，loss值：16668.735285092447，k值：20.778187642795334，b值：20.627250941677264\n",
      "次数：117，loss值：16293.628363638614，k值：20.578187642795335，b值：20.427250941677265\n",
      "次数：118，loss值：15922.80612965464，k值：20.378187642795336，b值：20.227250941677266\n",
      "次数：119，loss值：15556.268583140554，k值：20.178187642795336，b值：20.027250941677266\n",
      "次数：120，loss值：15194.015724096336，k值：19.978187642795337，b值：19.827250941677267\n",
      "次数：121，loss值：14836.047552522026，k值：19.778187642795338，b值：19.627250941677268\n",
      "次数：122，loss值：14482.36406841758，k值：19.57818764279534，b值：19.42725094167727\n",
      "次数：123，loss值：14132.965271783012，k值：19.37818764279534，b值：19.22725094167727\n",
      "次数：124，loss值：13787.851162618352，k值：19.17818764279534，b值：19.02725094167727\n",
      "次数：125，loss值：13447.021740923548，k值：18.97818764279534，b值：18.82725094167727\n",
      "次数：126，loss值：13110.477006698646，k值：18.77818764279534，b值：18.62725094167727\n",
      "次数：127，loss值：12778.21695994361，k值：18.578187642795342，b值：18.427250941677272\n",
      "次数：128，loss值：12450.241600658424，k值：18.378187642795343，b值：18.227250941677273\n",
      "次数：129，loss值：12126.550928843177，k值：18.178187642795343，b值：18.027250941677273\n",
      "次数：130，loss值：11807.14494449777，k值：17.978187642795344，b值：17.827250941677274\n",
      "次数：131，loss值：11492.023647622276，k值：17.778187642795345，b值：17.627250941677275\n",
      "次数：132，loss值：11181.18703821665，k值：17.578187642795346，b值：17.427250941677276\n",
      "次数：133，loss值：10874.635116280895，k值：17.378187642795346，b值：17.227250941677276\n",
      "次数：134，loss值：10572.36788181503，k值：17.178187642795347，b值：17.027250941677277\n",
      "次数：135，loss值：10274.385334819053，k值：16.978187642795348，b值：16.827250941677278\n",
      "次数：136，loss值：9980.687475292958，k值：16.77818764279535，b值：16.62725094167728\n",
      "次数：137，loss值：9691.274303236736，k值：16.57818764279535，b值：16.42725094167728\n",
      "次数：138，loss值：9406.145818650399，k值：16.37818764279535，b值：16.22725094167728\n",
      "次数：139，loss值：9125.302021533935，k值：16.17818764279535，b值：16.02725094167728\n",
      "次数：140，loss值：8848.742911887353，k值：15.978187642795351，b值：15.827250941677281\n",
      "次数：141，loss值：8576.468489710667，k值：15.778187642795352，b值：15.627250941677282\n",
      "次数：142，loss值：8308.478755003836，k值：15.578187642795353，b值：15.427250941677283\n",
      "次数：143，loss值：8044.773707766915，k值：15.378187642795353，b值：15.227250941677283\n",
      "次数：144，loss值：7785.353347999863，k值：15.178187642795354，b值：15.027250941677284\n",
      "次数：145，loss值：7530.21767570269，k值：14.978187642795355，b值：14.827250941677285\n",
      "次数：146，loss值：7279.366690875406，k值：14.778187642795356，b值：14.627250941677286\n",
      "次数：147，loss值：7032.800393518004，k值：14.578187642795356，b值：14.427250941677286\n",
      "次数：148，loss值：6790.518783630474，k值：14.378187642795357，b值：14.227250941677287\n",
      "次数：149，loss值：6552.521861212831，k值：14.178187642795358，b值：14.027250941677288\n",
      "次数：150，loss值：6318.809626265073，k值：13.978187642795358，b值：13.827250941677288\n",
      "次数：151，loss值：6089.382078787194，k值：13.77818764279536，b值：13.62725094167729\n",
      "次数：152，loss值：5864.239218779191，k值：13.57818764279536，b值：13.42725094167729\n",
      "次数：153，loss值：5643.381046241074，k值：13.37818764279536，b值：13.22725094167729\n",
      "次数：154，loss值：5426.807561172841，k值：13.178187642795361，b值：13.027250941677291\n",
      "次数：155，loss值：5214.518763574487，k值：12.978187642795362，b值：12.827250941677292\n",
      "次数：156，loss值：5006.514653446003，k值：12.778187642795363，b值：12.627250941677293\n",
      "次数：157，loss值：4802.79523078741，k值：12.578187642795363，b值：12.427250941677293\n",
      "次数：158，loss值：4603.360495598702，k值：12.378187642795364，b值：12.227250941677294\n",
      "次数：159，loss值：4408.210447879872，k值：12.178187642795365，b值：12.027250941677295\n",
      "次数：160，loss值：4217.345087630924，k值：11.978187642795366，b值：11.827250941677296\n",
      "次数：161，loss值：4030.7644148518593，k值：11.778187642795366，b值：11.627250941677296\n",
      "次数：162，loss值：3848.4684295426714，k值：11.578187642795367，b值：11.427250941677297\n",
      "次数：163，loss值：3670.4571317033683，k值：11.378187642795368，b值：11.227250941677298\n",
      "次数：164，loss值：3496.730521333947，k值：11.178187642795368，b值：11.027250941677298\n",
      "次数：165，loss值：3327.288598434404，k值：10.978187642795369，b值：10.827250941677299\n",
      "次数：166，loss值：3162.1313630047434，k值：10.77818764279537，b值：10.6272509416773\n",
      "次数：167，loss值：3001.258815044966，k值：10.57818764279537，b值：10.4272509416773\n",
      "次数：168，loss值：2844.6709545550675，k值：10.378187642795371，b值：10.227250941677301\n",
      "次数：169，loss值：2692.3677815350547，k值：10.178187642795372，b值：10.027250941677302\n",
      "次数：170，loss值：2544.3492959849173，k值：9.978187642795373，b值：9.827250941677303\n",
      "次数：171，loss值：2400.6154979046655，k值：9.778187642795373，b值：9.627250941677303\n",
      "次数：172，loss值：2261.1663872942913，k值：9.578187642795374，b值：9.427250941677304\n",
      "次数：173，loss值：2126.0019641538033，k值：9.378187642795375，b值：9.227250941677305\n",
      "次数：174，loss值：1995.122228483193，k值：9.178187642795375，b值：9.027250941677305\n",
      "次数：175，loss值：1868.5271802824673，k值：8.978187642795376，b值：8.827250941677306\n",
      "次数：176，loss值：1746.216819551621，k值：8.778187642795377，b值：8.627250941677307\n",
      "次数：177，loss值：1628.1911462906571，k值：8.578187642795378，b值：8.427250941677308\n",
      "次数：178，loss值：1514.4501604995742，k值：8.378187642795378，b值：8.227250941677308\n",
      "次数：179，loss值：1404.9938621783708，k值：8.178187642795379，b值：8.027250941677309\n",
      "次数：180，loss值：1299.8222513270505，k值：7.978187642795379，b值：7.827250941677309\n",
      "次数：181，loss值：1198.9353279456107，k值：7.778187642795379，b值：7.627250941677309\n",
      "次数：182，loss值：1102.3330920340527，k值：7.5781876427953785，b值：7.4272509416773085\n",
      "次数：183，loss值：1010.0155435923748，k值：7.378187642795378，b值：7.227250941677308\n",
      "次数：184，loss值：921.982682620581，k值：7.178187642795378，b值：7.027250941677308\n",
      "次数：185，loss值：838.234509118666，k值：6.978187642795378，b值：6.827250941677308\n",
      "次数：186，loss值：758.7710230866335，k值：6.778187642795378，b值：6.627250941677308\n",
      "次数：187，loss值：683.5922245244831，k值：6.578187642795378，b值：6.427250941677308\n",
      "次数：188，loss值：612.6981134322131，k值：6.378187642795377，b值：6.227250941677307\n",
      "次数：189，loss值：546.0886898098257，k值：6.178187642795377，b值：6.027250941677307\n",
      "次数：190，loss值：483.7639536573185，k值：5.978187642795377，b值：5.827250941677307\n",
      "次数：191，loss值：425.7239049746934，k值：5.778187642795377，b值：5.627250941677307\n",
      "次数：192，loss值：371.9685437619498，k值：5.578187642795377，b值：5.427250941677307\n",
      "次数：193，loss值：322.4978700190872，k值：5.3781876427953765，b值：5.2272509416773065\n",
      "次数：194，loss值：277.3118837461064，k值：5.178187642795376，b值：5.027250941677306\n",
      "次数：195，loss值：236.4105849430067，k值：4.978187642795376，b值：4.827250941677306\n",
      "次数：196，loss值：199.79397360978868，k值：4.778187642795376，b值：4.627250941677306\n",
      "次数：197，loss值：167.462049746452，k值：4.578187642795376，b值：4.427250941677306\n",
      "次数：198，loss值：139.41481335299687，k值：4.378187642795376，b值：4.227250941677306\n",
      "次数：199，loss值：115.6522644294229，k值：4.1781876427953755，b值：4.0272509416773055\n",
      "次数：200，loss值：96.17440297573059，k值：3.9781876427953753，b值：3.8272509416773053\n",
      "次数：201，loss值：80.98122899191968，k值：3.778187642795375，b值：3.627250941677305\n",
      "次数：202，loss值：70.07274247799016，k值：3.578187642795375，b值：3.427250941677305\n",
      "次数：203，loss值：63.448943433942055，k值：3.3781876427953748，b值：3.2272509416773048\n",
      "次数：204，loss值：61.10983185977543，k值：3.1781876427953746，b值：3.0272509416773046\n"
     ]
    }
   ],
   "source": [
    "direction = [(+1, -1),(+1, +1), (-1, -1),(-1, +1)]\n",
    "\n",
    "next_direction = random.choice(direction)\n",
    "\n",
    "min_loss = float('inf')\n",
    "\n",
    "k = random.random()*200 - 100\n",
    "b = random.random()*200 - 100\n",
    "\n",
    "scalar = 0.2\n",
    "\n",
    "    \n",
    "number = 2000\n",
    "\n",
    "while(number > 0):\n",
    "\n",
    "    k_direction,b_direction = next_direction\n",
    "\n",
    "    loss_value = loss([price_kb(k + k_direction * scalar,b + b_direction * scalar , _ )  for _ in i[:,5]],j)\n",
    "\n",
    "    if loss_value < min_loss:\n",
    "\n",
    "        print(\"次数：{}，loss值：{}，k值：{}，b值：{}\".format(2001 - number,loss_value,k + k_direction * scalar,b + b_direction * scalar ))\n",
    "\n",
    "        min_loss = loss_value\n",
    "\n",
    "        next_direction = next_direction\n",
    "        \n",
    "        k,b = k + k_direction * scalar,b + b_direction * scalar\n",
    "    else :\n",
    "\n",
    "        next_direction = random.choice(direction)\n",
    "\n",
    "    number = number -1\n",
    "        "
   ]
  },
  {
   "cell_type": "markdown",
   "metadata": {},
   "source": [
    "##采用梯度变化来控制方向(1)\n",
    "\n",
    "目标loss=sum（(y_actual - y_target)**2），变量为k和b\n",
    "\n",
    "y_actual模型：kx+b\n",
    "\n",
    "目标是找到一组k，b，使得loss取得最小值。---->越来越小。\n",
    "\n",
    "\n",
    "loss|k梯度：sum（2（y_actual-y_target）* x）\n",
    "\n",
    "loos|b梯度：sum（2（y_atctual-y_target））\n",
    "\n",
    "当梯度为症，且更大的时候，loss值变化越快，也更大。\n",
    "\n",
    "为了使loss越来越小，k、b应该不断变化。k、b应该向梯度的反方向变化。"
   ]
  },
  {
   "cell_type": "code",
   "execution_count": 243,
   "metadata": {},
   "outputs": [],
   "source": [
    "#梯度计算函数\n",
    "\n",
    "def k_gradient(x,y_actual,y_target):\n",
    "    \n",
    "    return sum([2*(y_a - y_t)*x_  for x_,y_a,y_t in zip(x,y_actual,y_target)])/len(y_target)\n",
    "\n",
    "def b_gradient(y_actual,y_target):\n",
    "    \n",
    "    return sum([2*(y_a - y_t)  for y_a,y_t in zip(y_actual,y_target)])/len(y_target)"
   ]
  },
  {
   "cell_type": "code",
   "execution_count": 271,
   "metadata": {},
   "outputs": [
    {
     "name": "stdout",
     "output_type": "stream",
     "text": [
      "次数：1，loss值：6290.114937675972，k值：-4.911089487778213，b值：-25.02322254953296\n",
      "次数：101，loss值：1249.5665263290955，k值：1.929067523323508，b值：-23.950764529812336\n",
      "次数：201，loss值：277.4989701412422，k值：4.933141937330307，b值：-23.481357456988068\n",
      "次数：301，loss值：90.03565159480883，k值：6.252614975182134，b值：-23.27677757595644\n",
      "次数：401，loss值：53.8828178827374，k值：6.832301563855361，b值：-23.188495190445323\n",
      "次数：501，loss值：46.910126103163314，k值：7.087113642885518，b值：-23.151284040250633\n",
      "次数：601，loss值：45.56480853764926，k值：7.199258237861798，b值：-23.136500257381744\n",
      "次数：701，loss值：45.304727220866，k值：7.2487508822357505，b值：-23.131564994490923\n",
      "次数：801，loss值：45.253933408889935，k值：7.270730098104859，b值：-23.13095429792764\n",
      "次数：901，loss值：45.24350088054992，k值：7.280626835967987，b值：-23.132242344207906\n"
     ]
    }
   ],
   "source": [
    "min_loss = float('inf')\n",
    "\n",
    "k = random.random()*200 - 100\n",
    "b = random.random()*200 - 100\n",
    "\n",
    "scaler = 0.0001\n",
    "    \n",
    "number = 1000\n",
    "\n",
    "while(number > 0):\n",
    "\n",
    "    loss_value = loss([price_kb(k,b,_) for _ in i[:,5]],j)\n",
    "\n",
    "    if number %100 == 0:\n",
    "\n",
    "        print(\"次数：{}，loss值：{}，k值：{}，b值：{}\".format(1001 - number,loss_value,k,b))\n",
    "\n",
    "        min_loss = loss_value\n",
    "    \n",
    "    k,b = k + (-1) * k_gradient(i[:,5],[k*x_+b for x_ in i[:,5]],j) *scaler,b + (-1) * b_gradient([k*x_+b for x_ in i[:,5]],j)*scaler\n",
    "\n",
    "    number = number -1"
   ]
  },
  {
   "cell_type": "markdown",
   "metadata": {},
   "source": [
    "##采用梯度变化来控制方向(2)\n",
    "\n",
    "目标loss=sum（|y_actual - y_target|），变量为k和b\n",
    "\n",
    "y_actual模型：kx+b\n",
    "\n",
    "目标是找到一组k，b，使得loss取得最小值。---->越来越小。\n",
    "\n",
    "\n",
    "loss|k梯度：sum（x）|y_actual > y_target + sum(-x)|y_actual<=y_target\n",
    "\n",
    "loos|b梯度：sum（1）|y_actual > y_target + sum(-1)|y_actual<=y_target\n",
    "\n",
    "当梯度为正，且更大的时候，loss值变化越快，也更大。\n",
    "\n",
    "为了使loss越来越小，k、b应该不断变化。k、b应该向梯度的反方向变化。"
   ]
  },
  {
   "cell_type": "code",
   "execution_count": 299,
   "metadata": {},
   "outputs": [],
   "source": [
    "#梯度计算函数及loss值计算\n",
    "\n",
    "def k_gradient_abs(x,y_actual,y_target):\n",
    "    \n",
    "    sum_1 =sum_2 = 0\n",
    "    \n",
    "    for x_,y_a,y_t in zip(x,y_actual,y_target):\n",
    "        \n",
    "        if (y_a>y_t): sum_1 += x_\n",
    "            \n",
    "        if (y_a<=y_t): sum_2 += (-1) * x_\n",
    "    \n",
    "    return (sum_1 + sum_2)/len(y_target)\n",
    "\n",
    "def b_gradient_abs(y_actual,y_target):\n",
    "    \n",
    "    sum_1 =sum_2 = 0\n",
    "    \n",
    "    for y_a,y_t in zip(y_actual,y_target):\n",
    "        \n",
    "        if (y_a>y_t): sum_1 += 1\n",
    "            \n",
    "        if (y_a<=y_t): sum_2 += (-1)\n",
    "    \n",
    "    return (sum_1 + sum_2)/len(y_target)\n",
    "\n",
    "def loss_abs(y_actual,y_target):\n",
    "    \n",
    "    return sum([abs(y_a -y_b) for y_a,y_b in zip(y_actual,y_target)])/len(y_target)"
   ]
  },
  {
   "cell_type": "code",
   "execution_count": 309,
   "metadata": {},
   "outputs": [
    {
     "name": "stdout",
     "output_type": "stream",
     "text": [
      "次数：1，loss值：26.633239397772734，k值：-4.394346604783152，b值：76.14383484669648\n",
      "次数：1001，loss值：23.683711232078164，k值：-4.930231015059883，b值：76.05573603246727\n",
      "次数：2001，loss值：20.852676140516863，k值：-5.455200102016419，b值：75.96914472811879\n",
      "次数：3001，loss值：18.40847650493077，k值：-5.942616420593539，b值：75.88783247515453\n",
      "次数：4001，loss值：16.442458671483358，k值：-6.37958423917056，b值：75.81351785064955\n",
      "次数：5001，loss值：14.808372776835562，k值：-6.777699857747723，b值：75.74479690203346\n",
      "次数：6001，loss值：13.481387580117707，k值：-7.136252994111225，b值：75.68191389808175\n",
      "次数：7001，loss值：12.470965303892324，k值：-7.449006964071663，b值：75.6258470996629\n",
      "次数：8001，loss值：11.637378443520442，k值：-7.733014424150643，b值：75.57410006408895\n",
      "次数：9001，loss值：11.018284973820728，k值：-7.9768847364034805，b值：75.52842970835769\n"
     ]
    }
   ],
   "source": [
    "min_loss = float('inf')\n",
    "\n",
    "k = random.random()*200 - 100\n",
    "b = random.random()*200 - 100\n",
    "\n",
    "#k = 11\n",
    "#b = -46\n",
    "scaler = 0.0001\n",
    "    \n",
    "number = 10000\n",
    "\n",
    "while(number > 0):\n",
    "\n",
    "    loss_value = loss_abs([price_kb(k,b,_)  for _ in i[:,5]],j)\n",
    "\n",
    "    if number %1000 == 0:\n",
    "\n",
    "        print(\"次数：{}，loss值：{}，k值：{}，b值：{}\".format(10001 - number,loss_value,k,b))\n",
    "\n",
    "        min_loss = loss_value\n",
    "    \n",
    "    k,b = k + (-1) * k_gradient_abs(i[:,5],[k*x_+b for x_ in i[:,5]],j) *scaler,b + (-1) * b_gradient_abs([k*x_+b for x_ in i[:,5]],j)*scaler\n",
    "\n",
    "    number = number -1"
   ]
  },
  {
   "cell_type": "markdown",
   "metadata": {},
   "source": [
    "### Part 3: Finish the Solution Parse Part of Edit-Distance"
   ]
  },
  {
   "cell_type": "code",
   "execution_count": 398,
   "metadata": {},
   "outputs": [],
   "source": [
    "from collections import defaultdict\n",
    "\n",
    "solution = {}\n",
    "\n",
    "candidates = []\n",
    "\n",
    "distance_need = defaultdict(dict)"
   ]
  },
  {
   "cell_type": "code",
   "execution_count": 387,
   "metadata": {},
   "outputs": [],
   "source": [
    "def lru_cache(maxsize):\n",
    "    \n",
    "    def decoartor(f):\n",
    "    \n",
    "        def wrap(string1,string2):\n",
    "\n",
    "            if (string1,string2) in solution:\n",
    "\n",
    "                return distance_need[(string1,string2)]\n",
    "\n",
    "            result = f(string1,string2)\n",
    "\n",
    "            distance_need[(string1,string2)] = result\n",
    "\n",
    "            return result\n",
    "\n",
    "        return wrap\n",
    "    \n",
    "    return decoartor\n",
    "\n",
    "@lru_cache(maxsize=2**10)\n",
    "def edit_distance(string1, string2):\n",
    "    \n",
    "    if len(string1) == 0: return len(string2)\n",
    "    if len(string2) == 0: return len(string1)\n",
    "    \n",
    "    tail_s1 = string1[-1]\n",
    "    tail_s2 = string2[-1]\n",
    "    \n",
    "    global candidates\n",
    "    candidates = [\n",
    "        (edit_distance(string1[:-1], string2) + 1, 'DEL {}'.format(tail_s1)),  # string 1 delete tail\n",
    "        (edit_distance(string1, string2[:-1]) + 1, 'ADD {}'.format(tail_s2)),  # string 1 add tail of string2\n",
    "    ]\n",
    "    \n",
    "    if tail_s1 == tail_s2:\n",
    "        both_forward = (edit_distance(string1[:-1], string2[:-1]) + 0, '')\n",
    "    else:\n",
    "        both_forward = (edit_distance(string1[:-1], string2[:-1]) + 1, 'SUB {} => {}'.format(tail_s1, tail_s2))\n",
    "\n",
    "    candidates.append(both_forward)\n",
    "    \n",
    "    min_distance, operation = min(candidates, key=lambda x: x[0])\n",
    "    #print(min_distance,\"i_need:\"+operation)\n",
    "    solution[(string1, string2)] = operation \n",
    "    \n",
    "    return min_distance"
   ]
  },
  {
   "cell_type": "code",
   "execution_count": 388,
   "metadata": {},
   "outputs": [
    {
     "data": {
      "text/plain": [
       "2"
      ]
     },
     "execution_count": 388,
     "metadata": {},
     "output_type": "execute_result"
    }
   ],
   "source": [
    "edit_distance('ABCDE', 'ABCCEF')"
   ]
  },
  {
   "cell_type": "code",
   "execution_count": 418,
   "metadata": {},
   "outputs": [],
   "source": [
    "def parser_solution(string1,string2,solution):\n",
    "    \n",
    "    distance = edit_distance(string1,string2)\n",
    "    \n",
    "    def steps(string1,string2,solution):\n",
    "    \n",
    "        if (string1==string2):\n",
    "\n",
    "             return ()\n",
    "\n",
    "        if (len(string1) > len(string2)):\n",
    "\n",
    "            return (solution[(string1,string2)],) + steps(string1[:-1],string2,solution)\n",
    "\n",
    "        if len(string1) == len(string2):\n",
    "            return (solution[(string1,string2)],) + steps(string1[:-1],string2[:-1],solution)\n",
    "\n",
    "        if len(string1) < len(string2):\n",
    "            return steps(string1,string2[:-1],solution) + (solution[(string1,string2)],)\n",
    "        \n",
    "    steps_list = [x for x in steps(string1,string2,solution) if x !='']\n",
    "    \n",
    "    return ('由右边往左编辑，总步数：{}'.format(str(distance)),steps_list) \n",
    "    "
   ]
  },
  {
   "cell_type": "code",
   "execution_count": 419,
   "metadata": {},
   "outputs": [
    {
     "data": {
      "text/plain": [
       "('由右边往左编辑，总步数：5', ['SUB C => E', 'ADD F', 'ADD F', 'ADD G', 'ADD M'])"
      ]
     },
     "execution_count": 419,
     "metadata": {},
     "output_type": "execute_result"
    }
   ],
   "source": [
    "parser_solution('ABC', 'ABEFFGM',solution)"
   ]
  },
  {
   "cell_type": "code",
   "execution_count": 420,
   "metadata": {},
   "outputs": [
    {
     "data": {
      "text/plain": [
       "('由右边往左编辑，总步数：5', ['DEL C', 'DEL G', 'DEL C', 'SUB C => G', 'SUB E => A'])"
      ]
     },
     "execution_count": 420,
     "metadata": {},
     "output_type": "execute_result"
    }
   ],
   "source": [
    "parser_solution('EBCMCGC', 'ABGM',solution)"
   ]
  },
  {
   "cell_type": "code",
   "execution_count": 423,
   "metadata": {},
   "outputs": [
    {
     "data": {
      "text/plain": [
       "('由右边往左编辑，总步数：9',\n",
       " ['DEL 9',\n",
       "  'DEL M',\n",
       "  'DEL F',\n",
       "  'DEL C',\n",
       "  'DEL B',\n",
       "  'SUB 7 => c',\n",
       "  'SUB 2 => 9',\n",
       "  'SUB 1 => 8',\n",
       "  'SUB c => 8'])"
      ]
     },
     "execution_count": 423,
     "metadata": {},
     "output_type": "execute_result"
    }
   ],
   "source": [
    "parser_solution('c1297BCFM9','8899c',solution)"
   ]
  },
  {
   "cell_type": "code",
   "execution_count": 430,
   "metadata": {},
   "outputs": [],
   "source": [
    "del solution"
   ]
  },
  {
   "cell_type": "code",
   "execution_count": 431,
   "metadata": {},
   "outputs": [
    {
     "data": {
      "text/plain": [
       "('由右边往左编辑，总步数：10',\n",
       " ['DEL 9',\n",
       "  'DEL M',\n",
       "  'DEL F',\n",
       "  'DEL C',\n",
       "  'SUB B => A',\n",
       "  'SUB 7 => c',\n",
       "  'SUB 2 => 9',\n",
       "  'SUB 1 => 8',\n",
       "  'SUB c => 8',\n",
       "  'DEL 9',\n",
       "  'DEL 9',\n",
       "  'SUB 9 => E',\n",
       "  'ADD D',\n",
       "  'ADD F'])"
      ]
     },
     "execution_count": 431,
     "metadata": {},
     "output_type": "execute_result"
    }
   ],
   "source": [
    "#del solution\n",
    "solution = {}\n",
    "parser_solution('c1297BCFM9','8899cABDCEFMEDF',solution)"
   ]
  },
  {
   "cell_type": "code",
   "execution_count": 402,
   "metadata": {},
   "outputs": [
    {
     "data": {
      "text/plain": [
       "{('A', 'A'): '',\n",
       " ('A', 'A1'): 'ADD 1',\n",
       " ('A', 'A12'): 'ADD 2',\n",
       " ('A', 'A123'): 'ADD 3',\n",
       " ('A', 'A123B'): 'ADD B',\n",
       " ('A', 'A123BC'): 'ADD C',\n",
       " ('A', 'A123BCC'): 'ADD C',\n",
       " ('A', 'A123BCC4'): 'ADD 4',\n",
       " ('A', 'A123BCC49'): 'ADD 9',\n",
       " ('A', 'A123BCC49E'): 'ADD E',\n",
       " ('AB', 'A'): 'DEL B',\n",
       " ('AB', 'A1'): 'SUB B => 1',\n",
       " ('AB', 'A12'): 'ADD 2',\n",
       " ('AB', 'A123'): 'ADD 3',\n",
       " ('AB', 'A123B'): '',\n",
       " ('AB', 'A123BC'): 'ADD C',\n",
       " ('AB', 'A123BCC'): 'ADD C',\n",
       " ('AB', 'A123BCC4'): 'ADD 4',\n",
       " ('AB', 'A123BCC49'): 'ADD 9',\n",
       " ('AB', 'A123BCC49E'): 'ADD E',\n",
       " ('ABC', 'A'): 'DEL C',\n",
       " ('ABC', 'A1'): 'DEL C',\n",
       " ('ABC', 'A12'): 'SUB C => 2',\n",
       " ('ABC', 'A123'): 'ADD 3',\n",
       " ('ABC', 'A123B'): 'DEL C',\n",
       " ('ABC', 'A123BC'): '',\n",
       " ('ABC', 'A123BCC'): 'ADD C',\n",
       " ('ABC', 'A123BCC4'): 'ADD 4',\n",
       " ('ABC', 'A123BCC49'): 'ADD 9',\n",
       " ('ABC', 'A123BCC49E'): 'ADD E'}"
      ]
     },
     "execution_count": 402,
     "metadata": {},
     "output_type": "execute_result"
    }
   ],
   "source": [
    "solution"
   ]
  },
  {
   "cell_type": "markdown",
   "metadata": {},
   "source": [
    "### Part 4 Choose 1 - 2 books to keep reading: \n",
    "\n",
    "+ SICP, Structure and Interpretation of Computer Programming. \n",
    "+ Introduction to Algorithms \n",
    "+ Artificial Intelligence A Modern Approach (3rd Edition) \n",
    "+ Code Complete 2 \n",
    "+ Programming Pearls \n",
    "+ Deep Learning\n",
    "+ 黑客与画家\n",
    "+ 数学之美\n",
    "+ Fluent Python\n",
    "+ Hands on Tensorflow\n",
    "+ Conference: NIPS_ ICML_ ICLR_ ACL_ AAAI\n",
    "\n",
    "> most books you may find in our github: https://github.com/Computing-Intelligence/References"
   ]
  },
  {
   "cell_type": "markdown",
   "metadata": {},
   "source": [
    "## Part 5-1: review machine learning"
   ]
  },
  {
   "cell_type": "markdown",
   "metadata": {},
   "source": [
    "1. Why do we use Derivative / Gradient to fit a target function?¶"
   ]
  },
  {
   "cell_type": "markdown",
   "metadata": {},
   "source": [
    "Ans:导数/梯度的变化直接影响目标函数值的变化，方向确定，更有利于快速找到目标。"
   ]
  },
  {
   "cell_type": "markdown",
   "metadata": {},
   "source": [
    "2. In the words 'Gradient Descent', what's the Gredient and what's the Descent?¶"
   ]
  },
  {
   "cell_type": "markdown",
   "metadata": {},
   "source": [
    "Ans:Gradient是目标函数的导数，Descent是目标参数沿着导数反方向的变化，-1*Gradient"
   ]
  },
  {
   "cell_type": "markdown",
   "metadata": {},
   "source": [
    "\n",
    "3. What's the advantages of the 3rd gradient descent method compared to the previous methods?"
   ]
  },
  {
   "cell_type": "markdown",
   "metadata": {},
   "source": [
    "Ans:方向确定，可控变化率/学习率"
   ]
  },
  {
   "cell_type": "markdown",
   "metadata": {},
   "source": [
    "4. Using the simple words to describe: What's the machine leanring.¶"
   ]
  },
  {
   "cell_type": "markdown",
   "metadata": {},
   "source": [
    "Ans:对已有数据进行建模（设定模拟函数），通过数据不断优化模型函数，"
   ]
  },
  {
   "cell_type": "markdown",
   "metadata": {},
   "source": [
    "### Part 5: Answer following questions: "
   ]
  },
  {
   "cell_type": "markdown",
   "metadata": {},
   "source": [
    "1. Why do we need dynamic programming? What's the difference of dynamic programming and previous talked `search` problme? "
   ]
  },
  {
   "cell_type": "code",
   "execution_count": null,
   "metadata": {},
   "outputs": [],
   "source": [
    "在搜索中存在大量的重复计算工作，通过动态规划可以避免重复计算。区别在于动态规划会把已经计算过的数据存起来，而search没有，每次都重新计算。"
   ]
  },
  {
   "cell_type": "markdown",
   "metadata": {},
   "source": [
    "2. Why do we still need dynamic programming? Why not we train a machine learning to fit a function which could get the `right` answer based on inputs?"
   ]
  },
  {
   "cell_type": "markdown",
   "metadata": {},
   "source": [
    "搜索场景中涉及到的重复计算是随着搜索层数的递增，指数级上升，非常消耗cpu，耗费时间。动态规划能都大幅度梯度程序处理效率。机器学习建立的模型适用于特定场景，不是万能的，动态规划的思想则适应性更强。"
   ]
  },
  {
   "cell_type": "markdown",
   "metadata": {},
   "source": [
    "3. Can you catch up at least 3 problems which could solved by Dynamic Programming? "
   ]
  },
  {
   "cell_type": "markdown",
   "metadata": {},
   "source": [
    "扫地机器人新建地图扫图、网页索引、外卖骑手路线规划"
   ]
  },
  {
   "cell_type": "markdown",
   "metadata": {},
   "source": [
    "4. Can you catch up at least 3 problems wich could sloved by Edit Distance? "
   ]
  },
  {
   "cell_type": "code",
   "execution_count": null,
   "metadata": {},
   "outputs": [],
   "source": [
    "语言识别纠错"
   ]
  },
  {
   "cell_type": "markdown",
   "metadata": {},
   "source": [
    "5. Please summarize the three main features of Dynamic Programming, and make a concise explain for each feature. "
   ]
  },
  {
   "cell_type": "markdown",
   "metadata": {},
   "source": [
    "1、分析子问题的重复性；\n",
    "2、子问题进行存储；\n",
    "3、Solution解析。"
   ]
  },
  {
   "cell_type": "markdown",
   "metadata": {},
   "source": [
    "6. What's the disadvantages of Dynamic Programming? (You may need search by yourself in Internet)"
   ]
  },
  {
   "cell_type": "markdown",
   "metadata": {},
   "source": [
    "The main limitation to this type of coding is keeping track of previous decisions and partial choices that may be applied to a future answer."
   ]
  },
  {
   "cell_type": "markdown",
   "metadata": {},
   "source": [
    "## Part 6 Preparation of Project-01"
   ]
  },
  {
   "cell_type": "markdown",
   "metadata": {},
   "source": [
    "1. Using python Flask or Bottle to finish your first simple web app:\n",
    "> https://bottlepy.org/\n",
    "\n",
    "2. Learn what's the SQL, and try some simple SQL operations:\n",
    "> https://www.w3schools.com/sql/sql_intro.asp\n",
    "\n",
    "3. Learn what's the HTML ( *ONLY* need to know the basic things)\n",
    "> https://getbootstrap.com/; https://www.w3schools.com/html/"
   ]
  },
  {
   "cell_type": "markdown",
   "metadata": {},
   "source": [
    "part_6 Finished."
   ]
  },
  {
   "cell_type": "markdown",
   "metadata": {},
   "source": [
    "### (Optinal) Finish the k-person-salesman problem:"
   ]
  },
  {
   "cell_type": "code",
   "execution_count": 1,
   "metadata": {},
   "outputs": [],
   "source": [
    "import random\n",
    "import matplotlib.pylab as plt"
   ]
  },
  {
   "cell_type": "code",
   "execution_count": 2,
   "metadata": {},
   "outputs": [],
   "source": [
    "latitudes = [random.randint(-100, 100) for _ in range(20)]\n",
    "longitude = [random.randint(-100, 100) for _ in range(20)]"
   ]
  },
  {
   "cell_type": "code",
   "execution_count": 4,
   "metadata": {},
   "outputs": [
    {
     "data": {
      "text/plain": [
       "<matplotlib.collections.PathCollection at 0x119d100f0>"
      ]
     },
     "execution_count": 4,
     "metadata": {},
     "output_type": "execute_result"
    },
    {
     "data": {
      "image/png": "[encoded data removed]",
      "text/plain": [
       "<Figure size 432x288 with 1 Axes>"
      ]
     },
     "metadata": {
      "needs_background": "light"
     },
     "output_type": "display_data"
    }
   ],
   "source": [
    "plt.scatter(latitudes, longitude)"
   ]
  },
  {
   "cell_type": "markdown",
   "metadata": {},
   "source": [
    "给定一个初始点 𝑃, 已经 𝑘个车辆，如何从该点出发，经这 k 个车辆经过所以的点全部一次，而且所走过的路程最短?\n",
    "\n",
    "例如："
   ]
  },
  {
   "cell_type": "code",
   "execution_count": 14,
   "metadata": {},
   "outputs": [],
   "source": [
    "chosen_p = (-50, 10)\n",
    "chosen_p2 = (1, 30)\n",
    "chosen_p3 = (99, 15)"
   ]
  },
  {
   "cell_type": "code",
   "execution_count": 4,
   "metadata": {},
   "outputs": [],
   "source": [
    "import matplotlib.pyplot as plt"
   ]
  },
  {
   "cell_type": "code",
   "execution_count": 15,
   "metadata": {
    "scrolled": true
   },
   "outputs": [
    {
     "data": {
      "text/plain": [
       "<matplotlib.collections.PathCollection at 0x11dbbd470>"
      ]
     },
     "execution_count": 15,
     "metadata": {},
     "output_type": "execute_result"
    },
    {
     "data": {
      "image/png": "[encoded data removed]",
      "text/plain": [
       "<Figure size 432x288 with 1 Axes>"
      ]
     },
     "metadata": {
      "needs_background": "light"
     },
     "output_type": "display_data"
    }
   ],
   "source": [
    "plt.scatter(latitudes, longitude)\n",
    "plt.scatter([chosen_p[0]], [chosen_p[1]], color='r')\n",
    "plt.scatter([chosen_p2[0]], [chosen_p2[1]], color='r')\n",
    "plt.scatter([chosen_p3[0]], [chosen_p3[1]], color='r')"
   ]
  },
  {
   "cell_type": "markdown",
   "metadata": {},
   "source": [
    "shuro"
   ]
  }
 ],
 "metadata": {
  "kernelspec": {
   "display_name": "Python 3",
   "language": "python",
   "name": "python3"
  },
  "language_info": {
   "codemirror_mode": {
    "name": "ipython",
    "version": 3
   },
   "file_extension": ".py",
   "mimetype": "text/x-python",
   "name": "python",
   "nbconvert_exporter": "python",
   "pygments_lexer": "ipython3",
   "version": "3.7.3"
  }
 },
 "nbformat": 4,
 "nbformat_minor": 2
}
